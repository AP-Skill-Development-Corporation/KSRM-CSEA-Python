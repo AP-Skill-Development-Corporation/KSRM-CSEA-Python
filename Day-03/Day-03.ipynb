{
 "cells": [
  {
   "cell_type": "markdown",
   "id": "b5b58d3e",
   "metadata": {},
   "source": [
    "## if - else\n",
    "    Syntax:\n",
    "        if condition:\n",
    "            //stmnt-1\n",
    "        else:\n",
    "            //stmnt-2\n",
    "        () => optional"
   ]
  },
  {
   "cell_type": "markdown",
   "id": "eb6397cc",
   "metadata": {},
   "source": [
    "```\n",
    "Input:\n",
    "    Enter Your age: 20\n",
    "Output:\n",
    "    You are Eligible for voting and exceded for 2 years\n",
    "\n",
    "Input:\n",
    "    Enter Your age: 10\n",
    "Output:\n",
    "    You are not Eligible for voting you need to wait for 8 years\n",
    "```"
   ]
  },
  {
   "cell_type": "code",
   "execution_count": 7,
   "id": "3fca8904",
   "metadata": {},
   "outputs": [
    {
     "name": "stdout",
     "output_type": "stream",
     "text": [
      "Enter Your age: 8\n",
      "You are not eligible for voting you need to wait for 10 years\n"
     ]
    }
   ],
   "source": [
    "n = int(input(\"Enter Your age: \"))\n",
    "if n>=18:\n",
    "    print(f\"Your are eligible for voting and exceed for {n-18} years\")\n",
    "else:\n",
    "    print(f\"You are not eligible for voting you need to wait for {18-n} years\")"
   ]
  },
  {
   "cell_type": "code",
   "execution_count": 11,
   "id": "ba66eac3",
   "metadata": {},
   "outputs": [
    {
     "name": "stdout",
     "output_type": "stream",
     "text": [
      "6\n",
      "23\n"
     ]
    }
   ],
   "source": [
    "n = int(input())\n",
    "if n%5==0:\n",
    "    print(n+3)\n",
    "else:\n",
    "    print(3*n+5)"
   ]
  },
  {
   "cell_type": "code",
   "execution_count": 14,
   "id": "be61f470",
   "metadata": {},
   "outputs": [
    {
     "name": "stdout",
     "output_type": "stream",
     "text": [
      "2\n",
      "1\n",
      "6\n",
      "183\n"
     ]
    }
   ],
   "source": [
    "x,n,m = int(input()),int(input()),int(input())\n",
    "if x%3==0:\n",
    "    print(2*n+9*(m**3))\n",
    "else:\n",
    "    print(3*n+5*(m**2))"
   ]
  },
  {
   "cell_type": "code",
   "execution_count": 16,
   "id": "0dec170e",
   "metadata": {},
   "outputs": [
    {
     "name": "stdout",
     "output_type": "stream",
     "text": [
      "Enter a number: 4\n",
      "Enter x value: 7\n",
      "1715\n"
     ]
    }
   ],
   "source": [
    "n = int(input(\"Enter a number: \"))\n",
    "if n%2==0:\n",
    "    k = int(input(\"Enter x value: \"))\n",
    "    print(5*(k**3))\n",
    "else:\n",
    "    p = int(input(\"Enter y value: \"))\n",
    "    q = int(input(\"Enter c value: \"))\n",
    "    print(3*(p**2)+2*q)"
   ]
  },
  {
   "cell_type": "markdown",
   "id": "aad83d04",
   "metadata": {},
   "source": [
    "## Nested if:\n",
    "    Syntax:\n",
    "        if condition-1:\n",
    "            if condition-2:\n",
    "                //stmnt-1\n",
    "            else:\n",
    "                //stmnt-2\n",
    "        else:\n",
    "            //stmnt-3\n",
    "        Note: else optional case"
   ]
  },
  {
   "cell_type": "code",
   "execution_count": 19,
   "id": "c94eb6db",
   "metadata": {},
   "outputs": [
    {
     "name": "stdout",
     "output_type": "stream",
     "text": [
      "Enter Username: somu\n",
      "Enter Password: qw123\n",
      "Hi user somu\n"
     ]
    }
   ],
   "source": [
    "username = input(\"Enter Username: \")\n",
    "pwd = input(\"Enter Password: \")\n",
    "if username == \"somu\":\n",
    "    if pwd == \"qw123\":\n",
    "        print(f\"Hi user {username}\")\n",
    "    else:\n",
    "        print(f\"Invalid Username/Password\")\n",
    "else:\n",
    "    print(f\"Invalid Username/Password\")"
   ]
  },
  {
   "cell_type": "code",
   "execution_count": 23,
   "id": "5eb67c16",
   "metadata": {},
   "outputs": [
    {
     "name": "stdout",
     "output_type": "stream",
     "text": [
      "----------Registration----------\n",
      "Create Username: arun\n",
      "Create Password: 13\n",
      "arun Created Successfully\n",
      "---------Login---------\n",
      "Enter Username: arun\n",
      "Enter Password: 13\n",
      "Hi user arun\n"
     ]
    }
   ],
   "source": [
    "print(\"----------Registration----------\")\n",
    "u = input(\"Create Username: \")\n",
    "p = input(\"Create Password: \")\n",
    "print(\"{} Created Successfully\".format(u))\n",
    "print(\"---------Login---------\")\n",
    "username = input(\"Enter Username: \")\n",
    "pwd = input(\"Enter Password: \")\n",
    "if username == u:\n",
    "    if pwd == p:\n",
    "        print(f\"Hi user {username}\")\n",
    "    else:\n",
    "        print(f\"Invalid Username/Password\")\n",
    "else:\n",
    "    print(f\"Invalid Username/Password\")"
   ]
  },
  {
   "cell_type": "code",
   "execution_count": 27,
   "id": "a0a15487",
   "metadata": {},
   "outputs": [
    {
     "name": "stdout",
     "output_type": "stream",
     "text": [
      "Enter Username: prasad\n",
      "Enter Password: 78\n",
      "Hi user prasad\n"
     ]
    }
   ],
   "source": [
    "username = input(\"Enter Username: \")\n",
    "pwd = input(\"Enter Password: \")\n",
    "if username == \"prasad\" and pwd == \"78\":\n",
    "    print(f\"Hi user {username}\")\n",
    "else:\n",
    "    print(f\"Invalid Username/Password\")"
   ]
  },
  {
   "cell_type": "code",
   "execution_count": 30,
   "id": "095ff36d",
   "metadata": {},
   "outputs": [
    {
     "name": "stdout",
     "output_type": "stream",
     "text": [
      "10\n",
      "10 is Lesser than 20\n"
     ]
    }
   ],
   "source": [
    "n = int(input())\n",
    "if n<100:\n",
    "    if n>20:\n",
    "        print(\"{} is greater than 20\".format(n))\n",
    "    else:\n",
    "        print(\"{} is Lesser than 20\".format(n))\n",
    "else:\n",
    "    print(\"{} is greater than 100\".format(n))"
   ]
  },
  {
   "cell_type": "markdown",
   "id": "5b803011",
   "metadata": {},
   "source": [
    "## elif:\n",
    "    Syntax:\n",
    "        if condition-1:\n",
    "            //stmnt-1\n",
    "        elif condition-n:\n",
    "            //stmnt-n\n",
    "            |       |\n",
    "        else:\n",
    "            //stmnt-(n-2)"
   ]
  },
  {
   "cell_type": "code",
   "execution_count": 37,
   "id": "1be36919",
   "metadata": {},
   "outputs": [
    {
     "name": "stdout",
     "output_type": "stream",
     "text": [
      "60\n",
      "Divisible by 2 and exceed with 30\n"
     ]
    }
   ],
   "source": [
    "n = int(input())\n",
    "if n<30 and n%5==0:\n",
    "    print(\"Divisible by 5\")\n",
    "elif n<30 and n%2==0:\n",
    "    print(\"Divisible by 2\")\n",
    "elif n>=30 and n%2==0:\n",
    "    print(\"Divisible by 2 and exceed with 30\")\n",
    "else:\n",
    "    print(\"Not Divisible by 2 and 5\")"
   ]
  },
  {
   "cell_type": "code",
   "execution_count": 40,
   "id": "6da31be0",
   "metadata": {},
   "outputs": [
    {
     "name": "stdout",
     "output_type": "stream",
     "text": [
      "Enter Your email: sample@gmail.com\n",
      "Enter Your Password: 453\n",
      "Welcome User sample@gmail.com\n"
     ]
    }
   ],
   "source": [
    "email = input(\"Enter Your email: \")\n",
    "if email == \"sample@gmail.com\":\n",
    "    pwd = input(\"Enter Your Password: \")\n",
    "    if pwd == \"453\":\n",
    "        print(\"Welcome User {}\".format(email))\n",
    "    else:\n",
    "        print(\"Invalid Password\")\n",
    "else:\n",
    "    print(\"Invalid Email {}\".format(email))"
   ]
  },
  {
   "cell_type": "markdown",
   "id": "a47f3441",
   "metadata": {},
   "source": [
    "## Loops or Iterations or Repitions\n",
    "    - To repeat the statemnet for n number of times\n",
    "    - To control the flow of execution\n",
    "    - for => Known ranges,forward and backward stepping\n",
    "    - while => Known and unknown ranges, forward and backward stepping, Infinity purpose"
   ]
  },
  {
   "cell_type": "markdown",
   "id": "9cb982ac",
   "metadata": {},
   "source": [
    "## For\n",
    "    Syntax:\n",
    "        for iterationvariablename in range(start,stop,step):\n",
    "            //stmnts\n",
    "            \n",
    "                or\n",
    "        \n",
    "        for iterationvariablename in itertor:\n",
    "            //stmnts\n",
    "        \n",
    "        iterators: list,tuple,set,string and dictionary"
   ]
  },
  {
   "cell_type": "markdown",
   "id": "4b0596b0",
   "metadata": {},
   "source": [
    "## range:\n",
    "    - range(stop):\n",
    "        - It starts with 0\n",
    "        - It ends with stop-1\n",
    "        - It increments with +1\n",
    "        Ex:\n",
    "            range(3)\n",
    "            0 1 2\n",
    "    - range(start,stop):\n",
    "        - It starts with exactly with start value\n",
    "        - It ends with stop-1\n",
    "        - It increments with +1\n",
    "        Ex:\n",
    "            range(10,15)\n",
    "            10 11 12 13 14\n",
    "    - range(start,stop,step):\n",
    "        - It starts with exactly with start value\n",
    "        - It ends with stop-1\n",
    "        - It increments with step value\n",
    "        Ex:\n",
    "            range(10,20,5)\n",
    "            10 15"
   ]
  },
  {
   "cell_type": "code",
   "execution_count": 46,
   "id": "f3f8d493",
   "metadata": {},
   "outputs": [
    {
     "name": "stdout",
     "output_type": "stream",
     "text": [
      "5\n",
      "0 1 2 3 4 "
     ]
    }
   ],
   "source": [
    "n = int(input())\n",
    "for i in range(n):\n",
    "    print(i,end=\" \")"
   ]
  },
  {
   "cell_type": "code",
   "execution_count": 48,
   "id": "a9f4e6f0",
   "metadata": {},
   "outputs": [
    {
     "name": "stdout",
     "output_type": "stream",
     "text": [
      "5\n",
      "4 3 2 1 0 "
     ]
    }
   ],
   "source": [
    "k = int(input())\n",
    "for i in range(k):\n",
    "    print(k-i-1,end=\" \")"
   ]
  },
  {
   "cell_type": "code",
   "execution_count": 51,
   "id": "34d71c30",
   "metadata": {},
   "outputs": [
    {
     "name": "stdout",
     "output_type": "stream",
     "text": [
      "Enter start range: 10\n",
      "Enter end range: 20\n",
      "10 11 12 13 14 15 16 17 18 19 "
     ]
    }
   ],
   "source": [
    "n = int(input(\"Enter start range: \"))\n",
    "m = int(input(\"Enter end range: \"))\n",
    "for i in range(n,m):\n",
    "    print(i,end=\" \")"
   ]
  },
  {
   "cell_type": "code",
   "execution_count": 55,
   "id": "da20565f",
   "metadata": {},
   "outputs": [
    {
     "name": "stdout",
     "output_type": "stream",
     "text": [
      "Enter start range: 10\n",
      "Enter end range: 20\n",
      "10 11 12 13 14 15 16 17 18 19 \n",
      "10 Iterations\n"
     ]
    }
   ],
   "source": [
    "n = int(input(\"Enter start range: \"))\n",
    "m = int(input(\"Enter end range: \"))\n",
    "for i in range(n,m):\n",
    "    print(i,end=\" \")\n",
    "print(\"\\n{} Iterations\".format(m-n))"
   ]
  },
  {
   "cell_type": "code",
   "execution_count": 57,
   "id": "5a1e1327",
   "metadata": {},
   "outputs": [
    {
     "name": "stdout",
     "output_type": "stream",
     "text": [
      "20\n",
      "30\n",
      "29 28 27 26 25 24 23 22 21 20 "
     ]
    }
   ],
   "source": [
    "n,m = int(input()),int(input())\n",
    "for i in range(n,m):\n",
    "    print(n+m-i-1,end=\" \")"
   ]
  },
  {
   "cell_type": "code",
   "execution_count": 63,
   "id": "38c3365b",
   "metadata": {},
   "outputs": [
    {
     "name": "stdout",
     "output_type": "stream",
     "text": [
      "-20\n",
      "-10\n",
      "5\n",
      "-20 -15 "
     ]
    }
   ],
   "source": [
    "n = int(input())\n",
    "m = int(input())\n",
    "k = int(input())\n",
    "for i in range(n,m,k):\n",
    "    print(i,end=\" \")"
   ]
  },
  {
   "cell_type": "code",
   "execution_count": 64,
   "id": "2aae5c2f",
   "metadata": {},
   "outputs": [
    {
     "name": "stdout",
     "output_type": "stream",
     "text": [
      "10\n",
      "0 2 4 6 8 "
     ]
    }
   ],
   "source": [
    "n = int(input())\n",
    "for i in range(n):\n",
    "    if i%2==0:\n",
    "        print(i,end=\" \")"
   ]
  },
  {
   "cell_type": "code",
   "execution_count": 65,
   "id": "826026f8",
   "metadata": {},
   "outputs": [
    {
     "name": "stdout",
     "output_type": "stream",
     "text": [
      "10\n",
      "20\n",
      "10 12 14 16 18 "
     ]
    }
   ],
   "source": [
    "n,m = int(input()),int(input())\n",
    "for i in range(n,m):\n",
    "    if i%2==0:\n",
    "        print(i,end=\" \")"
   ]
  },
  {
   "cell_type": "code",
   "execution_count": 68,
   "id": "c73b57a7",
   "metadata": {},
   "outputs": [
    {
     "name": "stdout",
     "output_type": "stream",
     "text": [
      "1\n",
      "5\n",
      "2 4 \n",
      "Sum of even numbers in a range 1 and 5 is: 6\n"
     ]
    }
   ],
   "source": [
    "n,m,q = int(input()),int(input()),0\n",
    "for i in range(n,m):\n",
    "    if i%2==0:\n",
    "        q+=i\n",
    "        print(i,end=\" \")\n",
    "print(\"\\nSum of even numbers in a range {} and {} is: {}\"\n",
    "      .format(n,m,q))"
   ]
  },
  {
   "cell_type": "code",
   "execution_count": 71,
   "id": "7d3d9c6f",
   "metadata": {},
   "outputs": [
    {
     "name": "stdout",
     "output_type": "stream",
     "text": [
      "10\n",
      "20\n",
      "3\n",
      "10 13 16 19 "
     ]
    }
   ],
   "source": [
    "n,m,k = int(input()),int(input()),int(input())\n",
    "for i in range(n,m,k):\n",
    "    print(i,end=\" \")"
   ]
  },
  {
   "cell_type": "markdown",
   "id": "76c7b35c",
   "metadata": {},
   "source": [
    "## While:\n",
    "    Syntax:\n",
    "        initialization\n",
    "        while condition:\n",
    "            //stmnts\n",
    "            incr/decr"
   ]
  },
  {
   "cell_type": "code",
   "execution_count": 3,
   "id": "a675cbe0",
   "metadata": {},
   "outputs": [
    {
     "name": "stdout",
     "output_type": "stream",
     "text": [
      "Enter a range: 10\n",
      "0 1 2 3 4 5 6 7 8 9 "
     ]
    }
   ],
   "source": [
    "n,i = int(input(\"Enter a range: \")),0\n",
    "while i!=n:\n",
    "    print(i,end=\" \")\n",
    "    i+=1"
   ]
  },
  {
   "cell_type": "code",
   "execution_count": 1,
   "id": "a8242c03",
   "metadata": {},
   "outputs": [
    {
     "name": "stdout",
     "output_type": "stream",
     "text": [
      "10\n",
      "20\n",
      "10 11 12 13 14 15 16 17 18 19 "
     ]
    }
   ],
   "source": [
    "n,m = int(input()),int(input())\n",
    "while n!=m:\n",
    "    print(n,end=\" \")\n",
    "    n+=1"
   ]
  },
  {
   "cell_type": "code",
   "execution_count": 2,
   "id": "5a4ebc0a",
   "metadata": {},
   "outputs": [
    {
     "name": "stdout",
     "output_type": "stream",
     "text": [
      "10\n",
      "20\n",
      "20 19 18 17 16 15 14 13 12 11 "
     ]
    }
   ],
   "source": [
    "n,m = int(input()),int(input())\n",
    "while n!=m:\n",
    "    print(m,end=\" \")\n",
    "    m-=1"
   ]
  },
  {
   "cell_type": "markdown",
   "id": "d38530e3",
   "metadata": {},
   "source": [
    "## Jumping Statements:\n",
    "    - break => It exits from a loop\n",
    "    - continue => It skips from a loop\n",
    "    - pass => Similar to continue and for future enhancements we can develop the logic\n",
    "    - return => It returns a single and multiple values from a function"
   ]
  },
  {
   "cell_type": "code",
   "execution_count": 6,
   "id": "9d6714dc",
   "metadata": {},
   "outputs": [
    {
     "name": "stdout",
     "output_type": "stream",
     "text": [
      "10\n",
      "20\n",
      "0 1 2 3 4 5 6 7 8 9 "
     ]
    }
   ],
   "source": [
    "n = int(input())\n",
    "m = int(input())\n",
    "for i in range(n):\n",
    "    if i==m:\n",
    "        break\n",
    "    print(i,end=\" \")"
   ]
  },
  {
   "cell_type": "code",
   "execution_count": 8,
   "id": "a9d7e1b1",
   "metadata": {},
   "outputs": [
    {
     "name": "stdout",
     "output_type": "stream",
     "text": [
      "10\n",
      "20\n",
      "0 1 2 3 4 5 6 7 8 9 "
     ]
    }
   ],
   "source": [
    "n = int(input())\n",
    "m = int(input())\n",
    "for i in range(n):\n",
    "    if i==m:\n",
    "        continue\n",
    "    print(i,end=\" \")"
   ]
  },
  {
   "cell_type": "code",
   "execution_count": 10,
   "id": "48fc3301",
   "metadata": {},
   "outputs": [
    {
     "name": "stdout",
     "output_type": "stream",
     "text": [
      "10\n",
      "5\n",
      "9 "
     ]
    }
   ],
   "source": [
    "n = int(input())\n",
    "m = int(input())\n",
    "for i in range(n):\n",
    "    if i==m:\n",
    "        pass\n",
    "print(i,end=\" \")"
   ]
  },
  {
   "cell_type": "code",
   "execution_count": null,
   "id": "80f774bf",
   "metadata": {},
   "outputs": [],
   "source": []
  }
 ],
 "metadata": {
  "kernelspec": {
   "display_name": "Python 3 (ipykernel)",
   "language": "python",
   "name": "python3"
  },
  "language_info": {
   "codemirror_mode": {
    "name": "ipython",
    "version": 3
   },
   "file_extension": ".py",
   "mimetype": "text/x-python",
   "name": "python",
   "nbconvert_exporter": "python",
   "pygments_lexer": "ipython3",
   "version": "3.9.13"
  }
 },
 "nbformat": 4,
 "nbformat_minor": 5
}
