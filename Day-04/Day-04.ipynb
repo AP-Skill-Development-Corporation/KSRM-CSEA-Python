{
 "cells": [
  {
   "cell_type": "code",
   "execution_count": 22,
   "id": "c32e34ef",
   "metadata": {},
   "outputs": [
    {
     "name": "stdout",
     "output_type": "stream",
     "text": [
      "5\n",
      "12\n",
      "229Y1A0505\n",
      "229Y1A0506\n",
      "229Y1A0507\n",
      "229Y1A0508\n",
      "229Y1A0509\n",
      "229Y1A0510\n",
      "229Y1A0511\n"
     ]
    }
   ],
   "source": [
    "n,m = int(input()),int(input())\n",
    "for i in range(n,m):\n",
    "    print(f\"229Y1A05{i:02}\")"
   ]
  },
  {
   "cell_type": "markdown",
   "id": "8e0ddd55",
   "metadata": {},
   "source": [
    "## Inner Loops:\n",
    "    - Loop within a loop\n",
    "    Syntax:\n",
    "            Loop => row\n",
    "                Loop => column\n",
    "                    //stmnts\n",
    "            "
   ]
  },
  {
   "cell_type": "code",
   "execution_count": 28,
   "id": "9161ebd9",
   "metadata": {},
   "outputs": [
    {
     "name": "stdout",
     "output_type": "stream",
     "text": [
      "4\n",
      "1 2 3 4 \n",
      "1 2 3 4 \n",
      "1 2 3 4 \n",
      "1 2 3 4 \n"
     ]
    }
   ],
   "source": [
    "n = int(input())\n",
    "for i in range(n):\n",
    "    for j in range(n):\n",
    "        print(j+1,end=\" \")\n",
    "    print()"
   ]
  },
  {
   "cell_type": "markdown",
   "id": "3da7aa47",
   "metadata": {},
   "source": [
    "## Functions:\n",
    "    - To perform a specific task\n",
    "    - Predefined\n",
    "    - User Defined\n",
    "        - with returntype and with arguments\n",
    "        - with returntype and without arguments\n",
    "        - without returntype and with arguments\n",
    "        - without returntype and without arguments\n",
    "    Syntax:\n",
    "        def functionname(arguments):\n",
    "            //stmnts\n",
    "            return return_value\n",
    "        \n",
    "        functionname(parameters)"
   ]
  },
  {
   "cell_type": "code",
   "execution_count": 38,
   "id": "89b6a160",
   "metadata": {},
   "outputs": [
    {
     "name": "stdout",
     "output_type": "stream",
     "text": [
      "4568\n",
      "Given number is: 4568 and its reverse is: 8654\n"
     ]
    }
   ],
   "source": [
    "# With returntype and with arguments\n",
    "# Reading => Main\n",
    "# Printing => Main\n",
    "# Logic => Function\n",
    "\n",
    "def rvsnm(m):\n",
    "    r = 0\n",
    "    while m!=0:\n",
    "        r = r*10+m%10\n",
    "        m //=10\n",
    "    return r\n",
    "\n",
    "n = int(input())\n",
    "print(\"Given number is: {} and its reverse is: {}\"\n",
    "      .format(n,rvsnm(n)))"
   ]
  },
  {
   "cell_type": "code",
   "execution_count": 41,
   "id": "1ca3357d",
   "metadata": {},
   "outputs": [
    {
     "name": "stdout",
     "output_type": "stream",
     "text": [
      "4587\n",
      "Given number is: 4587 and its reverse is: 7854\n"
     ]
    }
   ],
   "source": [
    "# With returntype and without arguments\n",
    "# Reading => Function\n",
    "# Printing => Main\n",
    "# Logic => Function\n",
    "\n",
    "def rvsnm():\n",
    "    m = int(input())\n",
    "    r = 0\n",
    "    print(\"Given number is: {}\".format(m),end=\" \")\n",
    "    while m!=0:\n",
    "        r = r*10+m%10\n",
    "        m //=10\n",
    "    return r\n",
    "\n",
    "print(\"and its reverse is: {}\".format(rvsnm()))"
   ]
  },
  {
   "cell_type": "code",
   "execution_count": 49,
   "id": "fd057e6a",
   "metadata": {},
   "outputs": [
    {
     "name": "stdout",
     "output_type": "stream",
     "text": [
      "45678\n",
      "Given number is: 45678 and its reverse is: 87654\n"
     ]
    }
   ],
   "source": [
    "# Without returntype and with arguments\n",
    "# Reading => Main\n",
    "# Printing => Function\n",
    "# Logic => Function\n",
    "\n",
    "def rvsnm(m):\n",
    "    r = 0\n",
    "    print(\"Given number is: {}\".format(m),end=\" \")\n",
    "    while m!=0:\n",
    "        r = r*10+m%10\n",
    "        m //=10\n",
    "    print(\"and its reverse is: {}\".format(r))\n",
    "    return \n",
    "\n",
    "n = int(input())\n",
    "rvsnm(n)"
   ]
  },
  {
   "cell_type": "code",
   "execution_count": 50,
   "id": "64176ea6",
   "metadata": {},
   "outputs": [
    {
     "name": "stdout",
     "output_type": "stream",
     "text": [
      "645\n",
      "Given number is: 645 and its reverse is: 546\n"
     ]
    }
   ],
   "source": [
    "# Without returntype and without arguments\n",
    "# Reading => Function\n",
    "# Printing => Function\n",
    "# Logic => Function\n",
    "\n",
    "def rvsnm():\n",
    "    r = 0\n",
    "    m = int(input())\n",
    "    print(\"Given number is: {}\".format(m),end=\" \")\n",
    "    while m!=0:\n",
    "        r = r*10+m%10\n",
    "        m //=10\n",
    "    print(\"and its reverse is: {}\".format(r))\n",
    "    return \n",
    "\n",
    "rvsnm()"
   ]
  },
  {
   "cell_type": "markdown",
   "id": "0712f708",
   "metadata": {},
   "source": [
    "## Function Argument Types:\n",
    "    - Default argument\n",
    "    - Keyword argument\n",
    "    - Required or Positional argument\n",
    "    - Variable-Length\n",
    "        - arbitary Keyword\n",
    "        - arbitary Positional"
   ]
  },
  {
   "cell_type": "markdown",
   "id": "c79e3f64",
   "metadata": {},
   "source": [
    "## Default Argument:"
   ]
  },
  {
   "cell_type": "code",
   "execution_count": 51,
   "id": "f0da5bce",
   "metadata": {},
   "outputs": [
    {
     "name": "stdout",
     "output_type": "stream",
     "text": [
      "Enter Your name: Raju\n",
      "Enter Your age: 45\n",
      "Entered name is: Raju\n",
      "Entered Age is: 45\n",
      "Branch is: CSE\n"
     ]
    }
   ],
   "source": [
    "def stdnt(n,m,p=\"CSE\"):\n",
    "    print(\"Entered name is: {}\".format(n))\n",
    "    print(\"Entered Age is: {}\".format(m))\n",
    "    print(\"Branch is: {}\".format(p))\n",
    "    return\n",
    "\n",
    "sname = input(\"Enter Your name: \")\n",
    "sage = int(input(\"Enter Your age: \"))\n",
    "stdnt(sname,sage)"
   ]
  },
  {
   "cell_type": "code",
   "execution_count": 53,
   "id": "070a8477",
   "metadata": {},
   "outputs": [
    {
     "name": "stdout",
     "output_type": "stream",
     "text": [
      "Enter Your name: Suresh\n",
      "Entered name is: Suresh\n",
      "Entered Age is: 25\n",
      "Branch is: CSE\n"
     ]
    }
   ],
   "source": [
    "def stdnt(n,m=25,p=\"CSE\"):\n",
    "    print(\"Entered name is: {}\".format(n))\n",
    "    print(\"Entered Age is: {}\".format(m))\n",
    "    print(\"Branch is: {}\".format(p))\n",
    "    return\n",
    "\n",
    "sname = input(\"Enter Your name: \")\n",
    "# sage = int(input(\"Enter Your age: \"))\n",
    "# stdnt(sname,sage)\n",
    "stdnt(sname)"
   ]
  },
  {
   "cell_type": "code",
   "execution_count": 54,
   "id": "6174caca",
   "metadata": {},
   "outputs": [
    {
     "ename": "SyntaxError",
     "evalue": "non-default argument follows default argument (625453845.py, line 1)",
     "output_type": "error",
     "traceback": [
      "\u001b[1;36m  Cell \u001b[1;32mIn[54], line 1\u001b[1;36m\u001b[0m\n\u001b[1;33m    def stdnt(n=\"Tilak\",m,p=\"CSE\"):\u001b[0m\n\u001b[1;37m                          ^\u001b[0m\n\u001b[1;31mSyntaxError\u001b[0m\u001b[1;31m:\u001b[0m non-default argument follows default argument\n"
     ]
    }
   ],
   "source": [
    "def stdnt(n=\"Tilak\",m,p=\"CSE\"):\n",
    "    print(\"Entered name is: {}\".format(n))\n",
    "    print(\"Entered Age is: {}\".format(m))\n",
    "    print(\"Branch is: {}\".format(p))\n",
    "    return\n",
    "\n",
    "sname = input(\"Enter Your name: \")\n",
    "# sage = int(input(\"Enter Your age: \"))\n",
    "# stdnt(sname,sage)\n",
    "stdnt(sname)"
   ]
  },
  {
   "cell_type": "code",
   "execution_count": 55,
   "id": "2a0ee254",
   "metadata": {},
   "outputs": [
    {
     "name": "stdout",
     "output_type": "stream",
     "text": [
      "Entered name is: Prasad\n",
      "Entered Age is: 25\n",
      "Branch is: CSE\n"
     ]
    }
   ],
   "source": [
    "def stdnt(n=\"Prasad\",m=25,p=\"CSE\"):\n",
    "    print(\"Entered name is: {}\".format(n))\n",
    "    print(\"Entered Age is: {}\".format(m))\n",
    "    print(\"Branch is: {}\".format(p))\n",
    "    return\n",
    "\n",
    "# sname = input(\"Enter Your name: \")\n",
    "# sage = int(input(\"Enter Your age: \"))\n",
    "# stdnt(sname,sage)\n",
    "# stdnt(sname)\n",
    "stdnt()"
   ]
  },
  {
   "cell_type": "code",
   "execution_count": 56,
   "id": "a9c101c6",
   "metadata": {},
   "outputs": [
    {
     "name": "stdout",
     "output_type": "stream",
     "text": [
      "Enter Your name: Kalyani\n",
      "Enter Your age: 43\n",
      "Enter Your Branch: CIVIL\n",
      "Entered name is: Kalyani\n",
      "Entered Age is: 43\n",
      "Branch is: CIVIL\n"
     ]
    }
   ],
   "source": [
    "def stdnt(n=\"Prasad\",m=25,p=\"CSE\"):\n",
    "    print(\"Entered name is: {}\".format(n))\n",
    "    print(\"Entered Age is: {}\".format(m))\n",
    "    print(\"Branch is: {}\".format(p))\n",
    "    return\n",
    "\n",
    "sname = input(\"Enter Your name: \")\n",
    "sage = int(input(\"Enter Your age: \"))\n",
    "sbch = input(\"Enter Your Branch: \")\n",
    "stdnt(sname,sage,sbch)"
   ]
  },
  {
   "cell_type": "markdown",
   "id": "f8bda682",
   "metadata": {},
   "source": [
    "## Required or Positional Argument"
   ]
  },
  {
   "cell_type": "code",
   "execution_count": 57,
   "id": "101c748e",
   "metadata": {},
   "outputs": [
    {
     "name": "stdout",
     "output_type": "stream",
     "text": [
      "Enter Employee Name: giri\n",
      "Enter Employee Salary: 45000\n",
      "Employee Name is: giri\n",
      "Employee Salary is: 45000\n"
     ]
    }
   ],
   "source": [
    "def emp(en,es):\n",
    "    print(\"Employee Name is: {}\".format(en))\n",
    "    print(\"Employee Salary is: {}\".format(es))\n",
    "    return\n",
    "\n",
    "ename = input(\"Enter Employee Name: \")\n",
    "esal = int(input(\"Enter Employee Salary: \"))\n",
    "emp(ename,esal)"
   ]
  },
  {
   "cell_type": "code",
   "execution_count": 58,
   "id": "b55cc2f3",
   "metadata": {},
   "outputs": [
    {
     "name": "stdout",
     "output_type": "stream",
     "text": [
      "Enter Employee Name: eswar\n",
      "Enter Employee Salary: 12000\n"
     ]
    },
    {
     "ename": "TypeError",
     "evalue": "emp() missing 1 required positional argument: 'ea'",
     "output_type": "error",
     "traceback": [
      "\u001b[1;31m---------------------------------------------------------------------------\u001b[0m",
      "\u001b[1;31mTypeError\u001b[0m                                 Traceback (most recent call last)",
      "Cell \u001b[1;32mIn[58], line 8\u001b[0m\n\u001b[0;32m      6\u001b[0m ename \u001b[38;5;241m=\u001b[39m \u001b[38;5;28minput\u001b[39m(\u001b[38;5;124m\"\u001b[39m\u001b[38;5;124mEnter Employee Name: \u001b[39m\u001b[38;5;124m\"\u001b[39m)\n\u001b[0;32m      7\u001b[0m esal \u001b[38;5;241m=\u001b[39m \u001b[38;5;28mint\u001b[39m(\u001b[38;5;28minput\u001b[39m(\u001b[38;5;124m\"\u001b[39m\u001b[38;5;124mEnter Employee Salary: \u001b[39m\u001b[38;5;124m\"\u001b[39m))\n\u001b[1;32m----> 8\u001b[0m \u001b[43memp\u001b[49m\u001b[43m(\u001b[49m\u001b[43mename\u001b[49m\u001b[43m,\u001b[49m\u001b[43mesal\u001b[49m\u001b[43m)\u001b[49m\n",
      "\u001b[1;31mTypeError\u001b[0m: emp() missing 1 required positional argument: 'ea'"
     ]
    }
   ],
   "source": [
    "def emp(en,es,ea):\n",
    "    print(\"Employee Name is: {}\".format(en))\n",
    "    print(\"Employee Salary is: {}\".format(es))\n",
    "    return\n",
    "\n",
    "ename = input(\"Enter Employee Name: \")\n",
    "esal = int(input(\"Enter Employee Salary: \"))\n",
    "emp(ename,esal)"
   ]
  },
  {
   "cell_type": "code",
   "execution_count": 59,
   "id": "7f6e5484",
   "metadata": {},
   "outputs": [
    {
     "name": "stdout",
     "output_type": "stream",
     "text": [
      "Enter Employee Name: ramu\n",
      "Enter Employee Salary: 63000\n"
     ]
    },
    {
     "ename": "TypeError",
     "evalue": "emp() takes 1 positional argument but 2 were given",
     "output_type": "error",
     "traceback": [
      "\u001b[1;31m---------------------------------------------------------------------------\u001b[0m",
      "\u001b[1;31mTypeError\u001b[0m                                 Traceback (most recent call last)",
      "Cell \u001b[1;32mIn[59], line 7\u001b[0m\n\u001b[0;32m      5\u001b[0m ename \u001b[38;5;241m=\u001b[39m \u001b[38;5;28minput\u001b[39m(\u001b[38;5;124m\"\u001b[39m\u001b[38;5;124mEnter Employee Name: \u001b[39m\u001b[38;5;124m\"\u001b[39m)\n\u001b[0;32m      6\u001b[0m esal \u001b[38;5;241m=\u001b[39m \u001b[38;5;28mint\u001b[39m(\u001b[38;5;28minput\u001b[39m(\u001b[38;5;124m\"\u001b[39m\u001b[38;5;124mEnter Employee Salary: \u001b[39m\u001b[38;5;124m\"\u001b[39m))\n\u001b[1;32m----> 7\u001b[0m \u001b[43memp\u001b[49m\u001b[43m(\u001b[49m\u001b[43mename\u001b[49m\u001b[43m,\u001b[49m\u001b[43mesal\u001b[49m\u001b[43m)\u001b[49m\n",
      "\u001b[1;31mTypeError\u001b[0m: emp() takes 1 positional argument but 2 were given"
     ]
    }
   ],
   "source": [
    "def emp(en):\n",
    "    print(\"Employee Name is: {}\".format(en))\n",
    "    return\n",
    "\n",
    "ename = input(\"Enter Employee Name: \")\n",
    "esal = int(input(\"Enter Employee Salary: \"))\n",
    "emp(ename,esal)"
   ]
  },
  {
   "cell_type": "code",
   "execution_count": 60,
   "id": "5520eb60",
   "metadata": {},
   "outputs": [
    {
     "ename": "SyntaxError",
     "evalue": "non-default argument follows default argument (2946289479.py, line 1)",
     "output_type": "error",
     "traceback": [
      "\u001b[1;36m  Cell \u001b[1;32mIn[60], line 1\u001b[1;36m\u001b[0m\n\u001b[1;33m    def emp(en=\"Bharath\",es):\u001b[0m\n\u001b[1;37m                           ^\u001b[0m\n\u001b[1;31mSyntaxError\u001b[0m\u001b[1;31m:\u001b[0m non-default argument follows default argument\n"
     ]
    }
   ],
   "source": [
    "def emp(en=\"Bharath\",es):\n",
    "    print(\"Employee Name is: {}\".format(en))\n",
    "    print(\"Employee Salary is: {}\".format(es))\n",
    "    return\n",
    "\n",
    "esal = int(input(\"Enter Employee Salary: \"))\n",
    "emp(esal)"
   ]
  },
  {
   "cell_type": "markdown",
   "id": "a7fdad2d",
   "metadata": {},
   "source": [
    "## Keyword Argument:"
   ]
  },
  {
   "cell_type": "code",
   "execution_count": 61,
   "id": "2900506c",
   "metadata": {},
   "outputs": [
    {
     "name": "stdout",
     "output_type": "stream",
     "text": [
      "Enter Your name: dinesh\n",
      "Enter Your Age: 15\n",
      "Enter Your Percentage: 56\n",
      "Entered Name is: dinesh\n",
      "Entered Age is: 15\n",
      "Entered Percentage is: 56\n"
     ]
    }
   ],
   "source": [
    "def std(a,c,b):\n",
    "    print(\"Entered Name is: {}\".format(a))\n",
    "    print(\"Entered Age is: {}\".format(b))\n",
    "    print(\"Entered Percentage is: {}\".format(c))\n",
    "    return\n",
    "\n",
    "sname = input(\"Enter Your name: \")\n",
    "sage = input(\"Enter Your Age: \")\n",
    "spr = int(input(\"Enter Your Percentage: \"))\n",
    "std(a=sname,b=sage,c=spr)"
   ]
  },
  {
   "cell_type": "code",
   "execution_count": 62,
   "id": "94b1870c",
   "metadata": {},
   "outputs": [
    {
     "name": "stdout",
     "output_type": "stream",
     "text": [
      "Enter Your name: varun\n",
      "Enter Your Age: 12\n",
      "Enter Your Percentage: 56\n"
     ]
    },
    {
     "ename": "TypeError",
     "evalue": "std() missing 1 required positional argument: 't'",
     "output_type": "error",
     "traceback": [
      "\u001b[1;31m---------------------------------------------------------------------------\u001b[0m",
      "\u001b[1;31mTypeError\u001b[0m                                 Traceback (most recent call last)",
      "Cell \u001b[1;32mIn[62], line 10\u001b[0m\n\u001b[0;32m      8\u001b[0m sage \u001b[38;5;241m=\u001b[39m \u001b[38;5;28minput\u001b[39m(\u001b[38;5;124m\"\u001b[39m\u001b[38;5;124mEnter Your Age: \u001b[39m\u001b[38;5;124m\"\u001b[39m)\n\u001b[0;32m      9\u001b[0m spr \u001b[38;5;241m=\u001b[39m \u001b[38;5;28mint\u001b[39m(\u001b[38;5;28minput\u001b[39m(\u001b[38;5;124m\"\u001b[39m\u001b[38;5;124mEnter Your Percentage: \u001b[39m\u001b[38;5;124m\"\u001b[39m))\n\u001b[1;32m---> 10\u001b[0m \u001b[43mstd\u001b[49m\u001b[43m(\u001b[49m\u001b[43ma\u001b[49m\u001b[38;5;241;43m=\u001b[39;49m\u001b[43msname\u001b[49m\u001b[43m,\u001b[49m\u001b[43mb\u001b[49m\u001b[38;5;241;43m=\u001b[39;49m\u001b[43msage\u001b[49m\u001b[43m,\u001b[49m\u001b[43mc\u001b[49m\u001b[38;5;241;43m=\u001b[39;49m\u001b[43mspr\u001b[49m\u001b[43m)\u001b[49m\n",
      "\u001b[1;31mTypeError\u001b[0m: std() missing 1 required positional argument: 't'"
     ]
    }
   ],
   "source": [
    "def std(a,c,b,t):\n",
    "    print(\"Entered Name is: {}\".format(a))\n",
    "    print(\"Entered Age is: {}\".format(b))\n",
    "    print(\"Entered Percentage is: {}\".format(c))\n",
    "    return\n",
    "\n",
    "sname = input(\"Enter Your name: \")\n",
    "sage = input(\"Enter Your Age: \")\n",
    "spr = int(input(\"Enter Your Percentage: \"))\n",
    "std(a=sname,b=sage,c=spr)"
   ]
  },
  {
   "cell_type": "code",
   "execution_count": 63,
   "id": "502d87a0",
   "metadata": {},
   "outputs": [
    {
     "name": "stdout",
     "output_type": "stream",
     "text": [
      "Enter Your name: Charan\n",
      "Enter Your Age: 15\n",
      "Enter Your Percentage: 85\n",
      "Entered Name is: Charan\n",
      "Entered Age is: 15\n",
      "Entered Percentage is: 85\n",
      "Entered Branch is: CSE\n"
     ]
    }
   ],
   "source": [
    "def std(a,c,b,t='CSE'):\n",
    "    print(\"Entered Name is: {}\".format(a))\n",
    "    print(\"Entered Age is: {}\".format(b))\n",
    "    print(\"Entered Percentage is: {}\".format(c))\n",
    "    print(\"Entered Branch is: {}\".format(t))\n",
    "    return\n",
    "\n",
    "sname = input(\"Enter Your name: \")\n",
    "sage = input(\"Enter Your Age: \")\n",
    "spr = int(input(\"Enter Your Percentage: \"))\n",
    "std(a=sname,b=sage,c=spr)"
   ]
  },
  {
   "cell_type": "code",
   "execution_count": 64,
   "id": "5f40faf5",
   "metadata": {},
   "outputs": [
    {
     "ename": "SyntaxError",
     "evalue": "non-default argument follows default argument (2097148469.py, line 1)",
     "output_type": "error",
     "traceback": [
      "\u001b[1;36m  Cell \u001b[1;32mIn[64], line 1\u001b[1;36m\u001b[0m\n\u001b[1;33m    def std(a,c=45.00,b,t):\u001b[0m\n\u001b[1;37m                        ^\u001b[0m\n\u001b[1;31mSyntaxError\u001b[0m\u001b[1;31m:\u001b[0m non-default argument follows default argument\n"
     ]
    }
   ],
   "source": [
    "def std(a,c=45.00,b,t):\n",
    "    print(\"Entered Name is: {}\".format(a))\n",
    "    print(\"Entered Age is: {}\".format(b))\n",
    "    print(\"Entered Percentage is: {}\".format(c))\n",
    "    print(\"Entered Branch is: {}\".format(t))\n",
    "    return\n",
    "\n",
    "sname = input(\"Enter Your name: \")\n",
    "sage = input(\"Enter Your Age: \")\n",
    "spr = int(input(\"Enter Your Percentage: \"))\n",
    "std(a=sname,b=sage,c=spr)"
   ]
  },
  {
   "cell_type": "code",
   "execution_count": null,
   "id": "5c096bd3",
   "metadata": {},
   "outputs": [],
   "source": []
  }
 ],
 "metadata": {
  "kernelspec": {
   "display_name": "Python 3 (ipykernel)",
   "language": "python",
   "name": "python3"
  },
  "language_info": {
   "codemirror_mode": {
    "name": "ipython",
    "version": 3
   },
   "file_extension": ".py",
   "mimetype": "text/x-python",
   "name": "python",
   "nbconvert_exporter": "python",
   "pygments_lexer": "ipython3",
   "version": "3.9.13"
  }
 },
 "nbformat": 4,
 "nbformat_minor": 5
}
