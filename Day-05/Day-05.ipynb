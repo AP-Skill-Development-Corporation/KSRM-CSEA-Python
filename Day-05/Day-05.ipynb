{
 "cells": [
  {
   "cell_type": "code",
   "execution_count": 6,
   "id": "2a93a0f2",
   "metadata": {},
   "outputs": [
    {
     "name": "stdout",
     "output_type": "stream",
     "text": [
      "1.Add\n",
      "2.Sub\n",
      "3.Multi\n",
      "4.exit\n",
      "Enter an option: 5\n",
      "Enter a value: 2\n",
      "Enter b value: 4\n",
      "Enter Valid Option. Try again\n",
      "1.Add\n",
      "2.Sub\n",
      "3.Multi\n",
      "4.exit\n",
      "Enter an option: 4\n",
      "Enter a value: 2\n",
      "Enter b value: 4\n"
     ]
    }
   ],
   "source": [
    "while True:\n",
    "    print(\"1.Add\\n2.Sub\\n3.Multi\\n4.exit\")\n",
    "    h = int(input(\"Enter an option: \"))\n",
    "    a,b = int(input(\"Enter a value: \")),int(input(\"Enter b value: \"))\n",
    "    if h == 1:\n",
    "        print(\"Addition of {} and {} is: {}\".format(a,b,a+b))\n",
    "    elif h == 3:\n",
    "        print(\"Multiplication of {} and {} is: {}\".format(a,b,a*b))\n",
    "    elif h == 2:\n",
    "        print(\"Substraction of {} and {} is: {}\".format(a,b,a-b))\n",
    "    elif h == 4:\n",
    "        break\n",
    "    else:\n",
    "        print(\"Enter Valid Option. Try again\")"
   ]
  },
  {
   "cell_type": "markdown",
   "id": "dd6c9f89",
   "metadata": {},
   "source": [
    "## Variable Length argument"
   ]
  },
  {
   "cell_type": "code",
   "execution_count": 9,
   "id": "c7dc4c8d",
   "metadata": {},
   "outputs": [
    {
     "name": "stdout",
     "output_type": "stream",
     "text": [
      "(78, 'Revathi', 45, 78, 56, 89, 20) <class 'tuple'>\n"
     ]
    }
   ],
   "source": [
    "def stdnt(*y):\n",
    "#     print(n,type(n))\n",
    "    print(y,type(y))\n",
    "    return\n",
    "\n",
    "stdnt(78,\"Revathi\",45,78,56,89,20)"
   ]
  },
  {
   "cell_type": "code",
   "execution_count": 10,
   "id": "377f4276",
   "metadata": {},
   "outputs": [
    {
     "name": "stdout",
     "output_type": "stream",
     "text": [
      "{'ename': 'Tejasri', 'esal': 4578, 'eage': 25} <class 'dict'>\n"
     ]
    }
   ],
   "source": [
    "def emp(**w):\n",
    "    print(w,type(w))\n",
    "    return\n",
    "\n",
    "emp(ename=\"Tejasri\",esal=4578,eage=25)"
   ]
  },
  {
   "cell_type": "code",
   "execution_count": 11,
   "id": "cf6cf6d4",
   "metadata": {},
   "outputs": [
    {
     "name": "stdout",
     "output_type": "stream",
     "text": [
      "(23, 56, 78, 9) <class 'tuple'>\n",
      "{'ename': 'Tejasri', 'esal': 4578, 'eage': 25} <class 'dict'>\n"
     ]
    }
   ],
   "source": [
    "def emp(*p,**w):\n",
    "    print(p,type(p))\n",
    "    print(w,type(w))\n",
    "    return\n",
    "\n",
    "emp(23,56,78,9,ename=\"Tejasri\",esal=4578,eage=25)"
   ]
  },
  {
   "cell_type": "code",
   "execution_count": 12,
   "id": "720bb803",
   "metadata": {},
   "outputs": [
    {
     "ename": "SyntaxError",
     "evalue": "positional argument follows keyword argument (1255030326.py, line 6)",
     "output_type": "error",
     "traceback": [
      "\u001b[1;36m  Cell \u001b[1;32mIn[12], line 6\u001b[1;36m\u001b[0m\n\u001b[1;33m    emp(23,56,78,9,ename=\"Tejasri\",esal=4578,eage=25,78)\u001b[0m\n\u001b[1;37m                                                       ^\u001b[0m\n\u001b[1;31mSyntaxError\u001b[0m\u001b[1;31m:\u001b[0m positional argument follows keyword argument\n"
     ]
    }
   ],
   "source": [
    "def emp(*p,**w):\n",
    "    print(p,type(p))\n",
    "    print(w,type(w))\n",
    "    return\n",
    "\n",
    "emp(23,56,78,9,ename=\"Tejasri\",esal=4578,eage=25,78)"
   ]
  },
  {
   "cell_type": "code",
   "execution_count": 13,
   "id": "edc50ba3",
   "metadata": {},
   "outputs": [
    {
     "ename": "SyntaxError",
     "evalue": "positional argument follows keyword argument (3258906778.py, line 6)",
     "output_type": "error",
     "traceback": [
      "\u001b[1;36m  Cell \u001b[1;32mIn[13], line 6\u001b[1;36m\u001b[0m\n\u001b[1;33m    emp(23,56,78,9,ename=\"Tejasri\",34,esal=4578,eage=25)\u001b[0m\n\u001b[1;37m                                                       ^\u001b[0m\n\u001b[1;31mSyntaxError\u001b[0m\u001b[1;31m:\u001b[0m positional argument follows keyword argument\n"
     ]
    }
   ],
   "source": [
    "def emp(*p,**w):\n",
    "    print(p,type(p))\n",
    "    print(w,type(w))\n",
    "    return\n",
    "\n",
    "emp(23,56,78,9,ename=\"Tejasri\",34,esal=4578,eage=25)"
   ]
  },
  {
   "cell_type": "code",
   "execution_count": 14,
   "id": "ceb34a8b",
   "metadata": {},
   "outputs": [
    {
     "name": "stdout",
     "output_type": "stream",
     "text": [
      "Maths <class 'str'>\n",
      "(23, 56, 78, 9) <class 'tuple'>\n",
      "{'ename': 'Tejasri', 'esal': 4578, 'eage': 25} <class 'dict'>\n"
     ]
    }
   ],
   "source": [
    "def emp(n,*p,**w):\n",
    "    print(n,type(n))\n",
    "    print(p,type(p))\n",
    "    print(w,type(w))\n",
    "    return\n",
    "\n",
    "emp(\"Maths\",23,56,78,9,ename=\"Tejasri\",esal=4578,eage=25)"
   ]
  },
  {
   "cell_type": "code",
   "execution_count": 21,
   "id": "5c4722fd",
   "metadata": {},
   "outputs": [
    {
     "ename": "SyntaxError",
     "evalue": "positional argument follows keyword argument (924772086.py, line 7)",
     "output_type": "error",
     "traceback": [
      "\u001b[1;36m  Cell \u001b[1;32mIn[21], line 7\u001b[1;36m\u001b[0m\n\u001b[1;33m    emp(\"Maths\",23,56,78,9,ename=\"Tejasri\",esal=4578,eage=25,g)\u001b[0m\n\u001b[1;37m                                                              ^\u001b[0m\n\u001b[1;31mSyntaxError\u001b[0m\u001b[1;31m:\u001b[0m positional argument follows keyword argument\n"
     ]
    }
   ],
   "source": [
    "def emp(n,y=78,*p,**w):\n",
    "    print(n,type(n))\n",
    "    print(p,type(p))\n",
    "    print(w,type(w))\n",
    "    return\n",
    "\n",
    "emp(\"Maths\",23,56,78,9,ename=\"Tejasri\",esal=4578,eage=25,g)"
   ]
  },
  {
   "cell_type": "markdown",
   "id": "edbae0b2",
   "metadata": {},
   "source": [
    "## Data Structures:\n",
    "    - To organize the data in order or unorder format\n",
    "    - list\n",
    "    - tuple\n",
    "    - set\n",
    "    - dictionary\n",
    "    - string"
   ]
  },
  {
   "cell_type": "markdown",
   "id": "24eec27e",
   "metadata": {},
   "source": [
    "## List:\n",
    "    - It stores different data type elements\n",
    "    - Changes can be done\n",
    "    - It can be represented as \"[]\"\n",
    "    - It allows duplicate values\n",
    "    - Slicing can be done because of index values\n",
    "    - It can be typecasted as list()\n",
    "    - It stores in ordered format"
   ]
  },
  {
   "cell_type": "markdown",
   "id": "50d75db5",
   "metadata": {},
   "source": [
    "## Tuple:\n",
    "    - It stores different data type elements\n",
    "    - Changes cant be done\n",
    "    - It can be represented as \"()\"\n",
    "    - It allows duplicate values\n",
    "    - Slicing can be done because of index\n",
    "    - It can be typecasted as tuple()\n",
    "    - It stores in ordered format"
   ]
  },
  {
   "cell_type": "markdown",
   "id": "b5ec8e45",
   "metadata": {},
   "source": [
    "## Set:\n",
    "    - It stores different data type elements\n",
    "    - Changes can be done\n",
    "    - It can be represented as \"{}\" with a single value\n",
    "    - It doesnt allows duplicate values\n",
    "    - Slicing can't be done because of no index\n",
    "    - It can be typecasted as set()\n",
    "    - It stores in unordered format"
   ]
  },
  {
   "cell_type": "markdown",
   "id": "28cf2257",
   "metadata": {},
   "source": [
    "## Dictionary:\n",
    "    - It stores different data type elements with key and values pairs\n",
    "    - Changes can be done\n",
    "    - It can be represented as \"{}\" with no value in it\n",
    "    - It doesnt allows duplicates for keys but for values\n",
    "    - Slicing cane be done for values but not for keys\n",
    "    - It can be typecasted as dict()\n",
    "    - It stores in ordered format"
   ]
  },
  {
   "cell_type": "markdown",
   "id": "c37c26e7",
   "metadata": {},
   "source": [
    "## String:\n",
    "    - It stores different data type elements but enclosed with ' or \"\n",
    "    - Changes can be done\n",
    "    - It can be represented as ' or \"\n",
    "    - It allows duplicate values\n",
    "    - Slicing can be done because of index\n",
    "    - It can be typecasted as str()\n",
    "    - It stores in ordered format"
   ]
  },
  {
   "cell_type": "markdown",
   "id": "53a154c8",
   "metadata": {},
   "source": [
    "## List:"
   ]
  },
  {
   "cell_type": "code",
   "execution_count": 23,
   "id": "9b3a4676",
   "metadata": {},
   "outputs": [
    {
     "name": "stdout",
     "output_type": "stream",
     "text": [
      "[12, 45.0, 'Prasad', True, (4+5j), 12, 12, 12] <class 'list'>\n"
     ]
    }
   ],
   "source": [
    "k = [12,45.00,'Prasad',True,4+5j,12,12,12]\n",
    "print(k,type(k))"
   ]
  },
  {
   "cell_type": "code",
   "execution_count": 26,
   "id": "d3915259",
   "metadata": {},
   "outputs": [
    {
     "name": "stdout",
     "output_type": "stream",
     "text": [
      "0 12 1 45.0 2 Prasad 3 True 4 (4+5j) 5 12 6 12 7 12 "
     ]
    }
   ],
   "source": [
    "for i in range(len(k)):\n",
    "    print(i,k[i],end=\" \")"
   ]
  },
  {
   "cell_type": "code",
   "execution_count": 27,
   "id": "a7821609",
   "metadata": {},
   "outputs": [
    {
     "name": "stdout",
     "output_type": "stream",
     "text": [
      "12 <class 'int'>\n",
      "45.0 <class 'float'>\n",
      "Prasad <class 'str'>\n",
      "True <class 'bool'>\n",
      "(4+5j) <class 'complex'>\n",
      "12 <class 'int'>\n",
      "12 <class 'int'>\n",
      "12 <class 'int'>\n"
     ]
    }
   ],
   "source": [
    "for i in k:\n",
    "    print(i,type(i))"
   ]
  },
  {
   "cell_type": "code",
   "execution_count": 31,
   "id": "d0575abf",
   "metadata": {},
   "outputs": [
    {
     "name": "stdout",
     "output_type": "stream",
     "text": [
      "[3, 5, 45, 2]\n"
     ]
    }
   ],
   "source": [
    "n = [45,2]\n",
    "m = [3,5]\n",
    "print(m+n)"
   ]
  },
  {
   "cell_type": "code",
   "execution_count": 48,
   "id": "e7219e6b",
   "metadata": {},
   "outputs": [
    {
     "name": "stdout",
     "output_type": "stream",
     "text": [
      "[45, '89.012', 98.0, True, (78+5j), None, 45, 89, 'Prasad']\n",
      "True\n",
      "45\n",
      "[True, (78+5j), None, 45, 89, 'Prasad']\n",
      "[89, 'Prasad']\n",
      "[45, '89.012', 98.0, True, (78+5j), None]\n",
      "[45, '89.012', 98.0, True, (78+5j)]\n",
      "[98.0, True, (78+5j)]\n",
      "[True, (78+5j)]\n",
      "[(78+5j), None, 45]\n",
      "[True, (78+5j), None]\n"
     ]
    }
   ],
   "source": [
    "h = [45,'89.012',98.00,True,78+5j,None,45,89,'Prasad']\n",
    "print(h)\n",
    "print(h[3])\n",
    "print(h[-3])\n",
    "print(h[3:])\n",
    "print(h[-2:])\n",
    "print(h[:6])\n",
    "print(h[:-4])\n",
    "print(h[2:5])\n",
    "print(h[3:-4])\n",
    "print(h[-5:7])\n",
    "print(h[-6:-3])"
   ]
  },
  {
   "cell_type": "code",
   "execution_count": 71,
   "id": "4a05ff4c",
   "metadata": {},
   "outputs": [
    {
     "name": "stdout",
     "output_type": "stream",
     "text": [
      "[45, '89.012', 98.0, True, (78+5j), None, 45, 89, 'Prasad']\n",
      "[45, '89.012', 98.0, True, (78+5j), None, 45, 89, 'Prasad']\n",
      "[True, (78+5j), None, 45, 89, 'Prasad']\n",
      "[None, 45, 89, 'Prasad']\n",
      "[98.0, True, (78+5j), None]\n",
      "[True]\n",
      "[None, 45]\n",
      "[True, (78+5j), None, 45]\n",
      "[98.0, (78+5j)]\n",
      "[89, 45, None, (78+5j), True]\n",
      "['Prasad', 89, 45, None, (78+5j), True, 98.0, '89.012', 45]\n"
     ]
    }
   ],
   "source": [
    "print(h)\n",
    "print(h[::])\n",
    "print(h[3::])\n",
    "print(h[-4::])\n",
    "print(h[2:6:])\n",
    "print(h[3:-5:])\n",
    "print(h[-4:7:])\n",
    "print(h[-6:-2:])\n",
    "print(h[2:6:2])\n",
    "print(h[7:2:-1])\n",
    "print(h[::-1])"
   ]
  },
  {
   "cell_type": "code",
   "execution_count": 72,
   "id": "8a2f7553",
   "metadata": {},
   "outputs": [
    {
     "name": "stdout",
     "output_type": "stream",
     "text": [
      "['__add__', '__class__', '__class_getitem__', '__contains__', '__delattr__', '__delitem__', '__dir__', '__doc__', '__eq__', '__format__', '__ge__', '__getattribute__', '__getitem__', '__gt__', '__hash__', '__iadd__', '__imul__', '__init__', '__init_subclass__', '__iter__', '__le__', '__len__', '__lt__', '__mul__', '__ne__', '__new__', '__reduce__', '__reduce_ex__', '__repr__', '__reversed__', '__rmul__', '__setattr__', '__setitem__', '__sizeof__', '__str__', '__subclasshook__', 'append', 'clear', 'copy', 'count', 'extend', 'index', 'insert', 'pop', 'remove', 'reverse', 'sort']\n"
     ]
    }
   ],
   "source": [
    "print(dir(list))"
   ]
  },
  {
   "cell_type": "code",
   "execution_count": 74,
   "id": "8f810be4",
   "metadata": {},
   "outputs": [
    {
     "name": "stdout",
     "output_type": "stream",
     "text": [
      "Built-in mutable sequence.\n",
      "\n",
      "If no argument is given, the constructor creates a new empty list.\n",
      "The argument must be an iterable if specified.\n"
     ]
    }
   ],
   "source": [
    "print(list.__doc__)"
   ]
  },
  {
   "cell_type": "code",
   "execution_count": 75,
   "id": "f8be7115",
   "metadata": {},
   "outputs": [
    {
     "name": "stdout",
     "output_type": "stream",
     "text": [
      "print(value, ..., sep=' ', end='\\n', file=sys.stdout, flush=False)\n",
      "\n",
      "Prints the values to a stream, or to sys.stdout by default.\n",
      "Optional keyword arguments:\n",
      "file:  a file-like object (stream); defaults to the current sys.stdout.\n",
      "sep:   string inserted between values, default a space.\n",
      "end:   string appended after the last value, default a newline.\n",
      "flush: whether to forcibly flush the stream.\n"
     ]
    }
   ],
   "source": [
    "print(print.__doc__)"
   ]
  },
  {
   "cell_type": "code",
   "execution_count": 78,
   "id": "052c2f49",
   "metadata": {},
   "outputs": [
    {
     "name": "stdout",
     "output_type": "stream",
     "text": [
      "[10]\n",
      "[10, 45]\n"
     ]
    }
   ],
   "source": [
    "h = [10]\n",
    "print(h)\n",
    "h.append(45)\n",
    "print(h)"
   ]
  },
  {
   "cell_type": "code",
   "execution_count": 79,
   "id": "8ece40a0",
   "metadata": {},
   "outputs": [
    {
     "name": "stdout",
     "output_type": "stream",
     "text": [
      "[10, 45]\n",
      "[10, 45, 'Prasad']\n"
     ]
    }
   ],
   "source": [
    "print(h)\n",
    "h.append('Prasad')\n",
    "print(h)"
   ]
  },
  {
   "cell_type": "code",
   "execution_count": 80,
   "id": "eb6ae760",
   "metadata": {},
   "outputs": [
    {
     "name": "stdout",
     "output_type": "stream",
     "text": [
      "[10, 45, 'Prasad']\n"
     ]
    },
    {
     "ename": "TypeError",
     "evalue": "list.append() takes exactly one argument (2 given)",
     "output_type": "error",
     "traceback": [
      "\u001b[1;31m---------------------------------------------------------------------------\u001b[0m",
      "\u001b[1;31mTypeError\u001b[0m                                 Traceback (most recent call last)",
      "Cell \u001b[1;32mIn[80], line 2\u001b[0m\n\u001b[0;32m      1\u001b[0m \u001b[38;5;28mprint\u001b[39m(h)\n\u001b[1;32m----> 2\u001b[0m \u001b[43mh\u001b[49m\u001b[38;5;241;43m.\u001b[39;49m\u001b[43mappend\u001b[49m\u001b[43m(\u001b[49m\u001b[38;5;241;43m45\u001b[39;49m\u001b[43m,\u001b[49m\u001b[38;5;241;43m89\u001b[39;49m\u001b[43m)\u001b[49m\n\u001b[0;32m      3\u001b[0m \u001b[38;5;28mprint\u001b[39m(h)\n",
      "\u001b[1;31mTypeError\u001b[0m: list.append() takes exactly one argument (2 given)"
     ]
    }
   ],
   "source": [
    "print(h)\n",
    "h.append(45,89)\n",
    "print(h)"
   ]
  },
  {
   "cell_type": "code",
   "execution_count": 82,
   "id": "16e6f57c",
   "metadata": {},
   "outputs": [
    {
     "name": "stdout",
     "output_type": "stream",
     "text": [
      "[10, 45, 'Prasad', [45, 786, 9]]\n",
      "[10, 45, 'Prasad', [45, 786, 9], [45, 786, 9]]\n",
      "[10, 45, 'Prasad', [45, 786, 9], [45, 786, 9], 'THis is sample']\n"
     ]
    }
   ],
   "source": [
    "print(h)\n",
    "h.append([45,786,9])\n",
    "print(h)\n",
    "h.append('THis is sample')\n",
    "print(h)"
   ]
  },
  {
   "cell_type": "code",
   "execution_count": 83,
   "id": "11561790",
   "metadata": {},
   "outputs": [
    {
     "ename": "TypeError",
     "evalue": "'int' object is not iterable",
     "output_type": "error",
     "traceback": [
      "\u001b[1;31m---------------------------------------------------------------------------\u001b[0m",
      "\u001b[1;31mTypeError\u001b[0m                                 Traceback (most recent call last)",
      "Cell \u001b[1;32mIn[83], line 2\u001b[0m\n\u001b[0;32m      1\u001b[0m m \u001b[38;5;241m=\u001b[39m [\u001b[38;5;241m45\u001b[39m]\n\u001b[1;32m----> 2\u001b[0m \u001b[43mm\u001b[49m\u001b[38;5;241;43m.\u001b[39;49m\u001b[43mextend\u001b[49m\u001b[43m(\u001b[49m\u001b[38;5;241;43m8\u001b[39;49m\u001b[43m)\u001b[49m\n\u001b[0;32m      3\u001b[0m \u001b[38;5;28mprint\u001b[39m(m)\n",
      "\u001b[1;31mTypeError\u001b[0m: 'int' object is not iterable"
     ]
    }
   ],
   "source": [
    "m = [45]\n",
    "m.extend(8)\n",
    "print(m)"
   ]
  },
  {
   "cell_type": "code",
   "execution_count": 84,
   "id": "0202e779",
   "metadata": {},
   "outputs": [
    {
     "name": "stdout",
     "output_type": "stream",
     "text": [
      "[45]\n",
      "[45, 45, 98, True]\n"
     ]
    }
   ],
   "source": [
    "print(m)\n",
    "m.extend([45,98,True])\n",
    "print(m)"
   ]
  },
  {
   "cell_type": "code",
   "execution_count": 85,
   "id": "75d74dd2",
   "metadata": {},
   "outputs": [
    {
     "name": "stdout",
     "output_type": "stream",
     "text": [
      "[45, 45, 98, True]\n",
      "[45, 45, 98, True, 78, 98]\n"
     ]
    }
   ],
   "source": [
    "print(m)\n",
    "m.extend((78,98))\n",
    "print(m)"
   ]
  },
  {
   "cell_type": "code",
   "execution_count": 86,
   "id": "633a3585",
   "metadata": {},
   "outputs": [
    {
     "name": "stdout",
     "output_type": "stream",
     "text": [
      "[45, 45, 98, True, 78, 98]\n",
      "[45, 45, 98, True, 78, 98, 'T', 'H', 'i', 's', ' ', 'i', 's']\n"
     ]
    }
   ],
   "source": [
    "print(m)\n",
    "m.extend('THis is')\n",
    "print(m)"
   ]
  },
  {
   "cell_type": "code",
   "execution_count": 87,
   "id": "18f0f17b",
   "metadata": {},
   "outputs": [
    {
     "name": "stdout",
     "output_type": "stream",
     "text": [
      "[45, 65, 30]\n"
     ]
    },
    {
     "ename": "TypeError",
     "evalue": "insert expected 2 arguments, got 1",
     "output_type": "error",
     "traceback": [
      "\u001b[1;31m---------------------------------------------------------------------------\u001b[0m",
      "\u001b[1;31mTypeError\u001b[0m                                 Traceback (most recent call last)",
      "Cell \u001b[1;32mIn[87], line 3\u001b[0m\n\u001b[0;32m      1\u001b[0m p \u001b[38;5;241m=\u001b[39m [\u001b[38;5;241m45\u001b[39m,\u001b[38;5;241m65\u001b[39m,\u001b[38;5;241m30\u001b[39m]\n\u001b[0;32m      2\u001b[0m \u001b[38;5;28mprint\u001b[39m(p)\n\u001b[1;32m----> 3\u001b[0m \u001b[43mp\u001b[49m\u001b[38;5;241;43m.\u001b[39;49m\u001b[43minsert\u001b[49m\u001b[43m(\u001b[49m\u001b[38;5;241;43m100\u001b[39;49m\u001b[43m)\u001b[49m\n",
      "\u001b[1;31mTypeError\u001b[0m: insert expected 2 arguments, got 1"
     ]
    }
   ],
   "source": [
    "p = [45,65,30]\n",
    "print(p)\n",
    "p.insert(100)"
   ]
  },
  {
   "cell_type": "code",
   "execution_count": 88,
   "id": "0e632aa5",
   "metadata": {},
   "outputs": [
    {
     "name": "stdout",
     "output_type": "stream",
     "text": [
      "[45, 65, 30]\n",
      "['Prasad', 45, 65, 30]\n"
     ]
    }
   ],
   "source": [
    "print(p)\n",
    "p.insert(0,'Prasad')\n",
    "print(p)"
   ]
  },
  {
   "cell_type": "code",
   "execution_count": 89,
   "id": "cb0c599b",
   "metadata": {},
   "outputs": [
    {
     "name": "stdout",
     "output_type": "stream",
     "text": [
      "['Prasad', 45, 65, 30]\n",
      "['Prasad', 45, 65, 30, 34]\n"
     ]
    }
   ],
   "source": [
    "print(p)\n",
    "p.insert(10,34)\n",
    "print(p)"
   ]
  },
  {
   "cell_type": "code",
   "execution_count": 92,
   "id": "b6973e3f",
   "metadata": {},
   "outputs": [
    {
     "name": "stdout",
     "output_type": "stream",
     "text": [
      "[45, 89, 63, 75]\n",
      "[45, 89, 63]\n"
     ]
    }
   ],
   "source": [
    "k = [45,89,63,75]\n",
    "print(k)\n",
    "k.pop()\n",
    "print(k)"
   ]
  },
  {
   "cell_type": "code",
   "execution_count": 93,
   "id": "7bf489ed",
   "metadata": {},
   "outputs": [
    {
     "name": "stdout",
     "output_type": "stream",
     "text": [
      "[45, 89, 63]\n",
      "[45, 63]\n"
     ]
    }
   ],
   "source": [
    "print(k)\n",
    "k.pop(1)\n",
    "print(k)"
   ]
  },
  {
   "cell_type": "code",
   "execution_count": 94,
   "id": "019dc4cc",
   "metadata": {},
   "outputs": [
    {
     "name": "stdout",
     "output_type": "stream",
     "text": [
      "[45, 788, 36, 89, 56, 21, 45]\n"
     ]
    }
   ],
   "source": [
    "q = [45,788,36,89,56,21,45]\n",
    "print(q)"
   ]
  },
  {
   "cell_type": "code",
   "execution_count": 95,
   "id": "b1a44e7a",
   "metadata": {},
   "outputs": [
    {
     "name": "stdout",
     "output_type": "stream",
     "text": [
      "[45, 788, 36, 89, 56, 21, 45]\n"
     ]
    },
    {
     "ename": "TypeError",
     "evalue": "list.remove() takes exactly one argument (0 given)",
     "output_type": "error",
     "traceback": [
      "\u001b[1;31m---------------------------------------------------------------------------\u001b[0m",
      "\u001b[1;31mTypeError\u001b[0m                                 Traceback (most recent call last)",
      "Cell \u001b[1;32mIn[95], line 2\u001b[0m\n\u001b[0;32m      1\u001b[0m \u001b[38;5;28mprint\u001b[39m(q)\n\u001b[1;32m----> 2\u001b[0m \u001b[43mq\u001b[49m\u001b[38;5;241;43m.\u001b[39;49m\u001b[43mremove\u001b[49m\u001b[43m(\u001b[49m\u001b[43m)\u001b[49m\n\u001b[0;32m      3\u001b[0m \u001b[38;5;28mprint\u001b[39m(q)\n",
      "\u001b[1;31mTypeError\u001b[0m: list.remove() takes exactly one argument (0 given)"
     ]
    }
   ],
   "source": [
    "print(q)\n",
    "q.remove()\n",
    "print(q)"
   ]
  },
  {
   "cell_type": "code",
   "execution_count": 96,
   "id": "099f3e5e",
   "metadata": {},
   "outputs": [
    {
     "name": "stdout",
     "output_type": "stream",
     "text": [
      "[45, 788, 36, 89, 56, 21, 45]\n",
      "[45, 788, 89, 56, 21, 45]\n"
     ]
    }
   ],
   "source": [
    "print(q)\n",
    "q.remove(36)\n",
    "print(q)"
   ]
  },
  {
   "cell_type": "code",
   "execution_count": 97,
   "id": "3fdb259d",
   "metadata": {},
   "outputs": [
    {
     "name": "stdout",
     "output_type": "stream",
     "text": [
      "[45, 788, 89, 56, 21, 45]\n"
     ]
    },
    {
     "ename": "ValueError",
     "evalue": "list.remove(x): x not in list",
     "output_type": "error",
     "traceback": [
      "\u001b[1;31m---------------------------------------------------------------------------\u001b[0m",
      "\u001b[1;31mValueError\u001b[0m                                Traceback (most recent call last)",
      "Cell \u001b[1;32mIn[97], line 2\u001b[0m\n\u001b[0;32m      1\u001b[0m \u001b[38;5;28mprint\u001b[39m(q)\n\u001b[1;32m----> 2\u001b[0m \u001b[43mq\u001b[49m\u001b[38;5;241;43m.\u001b[39;49m\u001b[43mremove\u001b[49m\u001b[43m(\u001b[49m\u001b[38;5;241;43m200\u001b[39;49m\u001b[43m)\u001b[49m\n\u001b[0;32m      3\u001b[0m \u001b[38;5;28mprint\u001b[39m(q)\n",
      "\u001b[1;31mValueError\u001b[0m: list.remove(x): x not in list"
     ]
    }
   ],
   "source": [
    "print(q)\n",
    "q.remove(200)\n",
    "print(q)"
   ]
  },
  {
   "cell_type": "code",
   "execution_count": 98,
   "id": "f043fe98",
   "metadata": {},
   "outputs": [
    {
     "name": "stdout",
     "output_type": "stream",
     "text": [
      "[45, 898, 6, 3, 5]\n",
      "1\n"
     ]
    }
   ],
   "source": [
    "y = [45,898,6,3,5]\n",
    "print(y)\n",
    "print(y.index(898))"
   ]
  },
  {
   "cell_type": "code",
   "execution_count": 99,
   "id": "c9efa1a4",
   "metadata": {},
   "outputs": [
    {
     "ename": "ValueError",
     "evalue": "500 is not in list",
     "output_type": "error",
     "traceback": [
      "\u001b[1;31m---------------------------------------------------------------------------\u001b[0m",
      "\u001b[1;31mValueError\u001b[0m                                Traceback (most recent call last)",
      "Cell \u001b[1;32mIn[99], line 1\u001b[0m\n\u001b[1;32m----> 1\u001b[0m \u001b[38;5;28mprint\u001b[39m(\u001b[43my\u001b[49m\u001b[38;5;241;43m.\u001b[39;49m\u001b[43mindex\u001b[49m\u001b[43m(\u001b[49m\u001b[38;5;241;43m500\u001b[39;49m\u001b[43m)\u001b[49m)\n",
      "\u001b[1;31mValueError\u001b[0m: 500 is not in list"
     ]
    }
   ],
   "source": [
    "print(y.index(500))"
   ]
  },
  {
   "cell_type": "code",
   "execution_count": 101,
   "id": "7630af52",
   "metadata": {},
   "outputs": [
    {
     "name": "stdout",
     "output_type": "stream",
     "text": [
      "[45, 786, 3, 68]\n",
      "[3, 45, 68, 786]\n"
     ]
    }
   ],
   "source": [
    "c = [45,786,3,68]\n",
    "print(c)\n",
    "c.sort()\n",
    "print(c)"
   ]
  },
  {
   "cell_type": "code",
   "execution_count": 102,
   "id": "c4fb2b08",
   "metadata": {},
   "outputs": [
    {
     "name": "stdout",
     "output_type": "stream",
     "text": [
      "[78, 85, 6, 2, 56]\n",
      "[85, 78, 56, 6, 2]\n"
     ]
    }
   ],
   "source": [
    "a = [78,85,6,2,56]\n",
    "print(a)\n",
    "a.sort(reverse=True)\n",
    "print(a)"
   ]
  },
  {
   "cell_type": "code",
   "execution_count": 103,
   "id": "cab8c2ec",
   "metadata": {},
   "outputs": [
    {
     "name": "stdout",
     "output_type": "stream",
     "text": [
      "[45, 879, 'Prasad', 9.0154]\n",
      "[9.0154, 'Prasad', 879, 45]\n"
     ]
    }
   ],
   "source": [
    "w = [45,879,'Prasad',9.0154]\n",
    "print(w)\n",
    "w.reverse()\n",
    "print(w)"
   ]
  },
  {
   "cell_type": "code",
   "execution_count": 104,
   "id": "fb04aee0",
   "metadata": {},
   "outputs": [
    {
     "name": "stdout",
     "output_type": "stream",
     "text": [
      "[78, 98, 2]\n",
      "[78, 98, 2]\n"
     ]
    }
   ],
   "source": [
    "q = [78,98,2]\n",
    "z = q.copy()\n",
    "print(q)\n",
    "print(z)"
   ]
  },
  {
   "cell_type": "code",
   "execution_count": 107,
   "id": "2a3eb110",
   "metadata": {},
   "outputs": [
    {
     "name": "stdout",
     "output_type": "stream",
     "text": [
      "[78, 85, 96, 42, 4, 5, 8, 4, 5, 4, 8, 5, 4]\n",
      "4\n",
      "[78, 85, 96, 42, 4, 5, 8, 4, 5, 4, 8, 5, 4]\n",
      "0\n"
     ]
    }
   ],
   "source": [
    "v = [78,85,96,42,4,5,8,4,5,4,8,5,4]\n",
    "print(v)\n",
    "print(v.count(4))\n",
    "print(v)\n",
    "print(v.count(-200))"
   ]
  },
  {
   "cell_type": "code",
   "execution_count": 108,
   "id": "4919b8dc",
   "metadata": {},
   "outputs": [
    {
     "name": "stdout",
     "output_type": "stream",
     "text": [
      "[78, 5, 4, 2, 8, 9, 6]\n",
      "[]\n"
     ]
    }
   ],
   "source": [
    "b = [78,5,4,2,8,9,6]\n",
    "print(b)\n",
    "b.clear()\n",
    "print(b)"
   ]
  },
  {
   "cell_type": "code",
   "execution_count": 109,
   "id": "f0153c96",
   "metadata": {},
   "outputs": [
    {
     "name": "stdout",
     "output_type": "stream",
     "text": [
      "[23, 6, 7, 8]\n"
     ]
    },
    {
     "ename": "NameError",
     "evalue": "name 'c' is not defined",
     "output_type": "error",
     "traceback": [
      "\u001b[1;31m---------------------------------------------------------------------------\u001b[0m",
      "\u001b[1;31mNameError\u001b[0m                                 Traceback (most recent call last)",
      "Cell \u001b[1;32mIn[109], line 4\u001b[0m\n\u001b[0;32m      2\u001b[0m \u001b[38;5;28mprint\u001b[39m(c)\n\u001b[0;32m      3\u001b[0m \u001b[38;5;28;01mdel\u001b[39;00m c\n\u001b[1;32m----> 4\u001b[0m \u001b[38;5;28mprint\u001b[39m(\u001b[43mc\u001b[49m)\n",
      "\u001b[1;31mNameError\u001b[0m: name 'c' is not defined"
     ]
    }
   ],
   "source": [
    "c = [23,6,7,8]\n",
    "print(c)\n",
    "del c\n",
    "print(c)"
   ]
  },
  {
   "cell_type": "code",
   "execution_count": 111,
   "id": "1b6b5f06",
   "metadata": {},
   "outputs": [
    {
     "name": "stdout",
     "output_type": "stream",
     "text": [
      "(12, 78.015, 'Lalitha', False, None, (45+5j), 45, 45, 12, 45) <class 'tuple'>\n",
      "Lalitha\n"
     ]
    }
   ],
   "source": [
    "g = (12,78.015,\"Lalitha\",False,None,45+5j,45,45,12,45)\n",
    "print(g,type(g))\n",
    "print(g[2])"
   ]
  },
  {
   "cell_type": "code",
   "execution_count": 112,
   "id": "2defe676",
   "metadata": {},
   "outputs": [
    {
     "name": "stdout",
     "output_type": "stream",
     "text": [
      "['__add__', '__class__', '__class_getitem__', '__contains__', '__delattr__', '__dir__', '__doc__', '__eq__', '__format__', '__ge__', '__getattribute__', '__getitem__', '__getnewargs__', '__gt__', '__hash__', '__init__', '__init_subclass__', '__iter__', '__le__', '__len__', '__lt__', '__mul__', '__ne__', '__new__', '__reduce__', '__reduce_ex__', '__repr__', '__rmul__', '__setattr__', '__sizeof__', '__str__', '__subclasshook__', 'count', 'index']\n"
     ]
    }
   ],
   "source": [
    "print(dir(tuple))"
   ]
  },
  {
   "cell_type": "code",
   "execution_count": 114,
   "id": "90a977d3",
   "metadata": {},
   "outputs": [
    {
     "name": "stdout",
     "output_type": "stream",
     "text": [
      "(12, 78, 3, 6, 9, 3, 6)\n",
      "2\n",
      "0\n"
     ]
    }
   ],
   "source": [
    "p = (12,78,3,6,9,3,6)\n",
    "print(p)\n",
    "print(p.count(3))\n",
    "print(p.count(-200))"
   ]
  },
  {
   "cell_type": "code",
   "execution_count": 118,
   "id": "b46ddc63",
   "metadata": {},
   "outputs": [
    {
     "name": "stdout",
     "output_type": "stream",
     "text": [
      "(4, 3, 2, 1, 5, 6, 9, 8)\n",
      "4\n"
     ]
    }
   ],
   "source": [
    "n = (4,3,2,1,5,6,9,8)\n",
    "print(n)\n",
    "print(n.index(5))"
   ]
  },
  {
   "cell_type": "code",
   "execution_count": 119,
   "id": "c5963f16",
   "metadata": {},
   "outputs": [
    {
     "name": "stdout",
     "output_type": "stream",
     "text": [
      "(4, 3, 2, 1, 5, 6, 9, 8)\n"
     ]
    },
    {
     "ename": "ValueError",
     "evalue": "tuple.index(x): x not in tuple",
     "output_type": "error",
     "traceback": [
      "\u001b[1;31m---------------------------------------------------------------------------\u001b[0m",
      "\u001b[1;31mValueError\u001b[0m                                Traceback (most recent call last)",
      "Cell \u001b[1;32mIn[119], line 2\u001b[0m\n\u001b[0;32m      1\u001b[0m \u001b[38;5;28mprint\u001b[39m(n)\n\u001b[1;32m----> 2\u001b[0m \u001b[38;5;28mprint\u001b[39m(\u001b[43mn\u001b[49m\u001b[38;5;241;43m.\u001b[39;49m\u001b[43mindex\u001b[49m\u001b[43m(\u001b[49m\u001b[38;5;241;43m-\u001b[39;49m\u001b[38;5;241;43m2\u001b[39;49m\u001b[43m)\u001b[49m)\n",
      "\u001b[1;31mValueError\u001b[0m: tuple.index(x): x not in tuple"
     ]
    }
   ],
   "source": [
    "print(n)\n",
    "print(n.index(-2))"
   ]
  },
  {
   "cell_type": "code",
   "execution_count": 121,
   "id": "bd24cb3a",
   "metadata": {},
   "outputs": [
    {
     "name": "stdout",
     "output_type": "stream",
     "text": [
      "0 1\n",
      "1 23.022\n",
      "2 Kiran\n",
      "3 False\n",
      "4 (45+3j)\n",
      "5 45\n",
      "6 12\n"
     ]
    }
   ],
   "source": [
    "v = (1,23.022,'Kiran',False,45+3j,45,'12')\n",
    "for i in range(len(v)):\n",
    "    print(i,v[i])"
   ]
  },
  {
   "cell_type": "code",
   "execution_count": 122,
   "id": "2ce7d853",
   "metadata": {},
   "outputs": [
    {
     "name": "stdout",
     "output_type": "stream",
     "text": [
      "1 23.022 Kiran False (45+3j) 45 12 "
     ]
    }
   ],
   "source": [
    "for i in v:\n",
    "    print(i,end=\" \")"
   ]
  },
  {
   "cell_type": "code",
   "execution_count": 124,
   "id": "59b0f97f",
   "metadata": {},
   "outputs": [
    {
     "name": "stdout",
     "output_type": "stream",
     "text": [
      "{} <class 'dict'>\n",
      "{'4'} <class 'set'>\n"
     ]
    }
   ],
   "source": [
    "s,k = {},{'4'}\n",
    "print(s,type(s))\n",
    "print(k,type(k))"
   ]
  },
  {
   "cell_type": "code",
   "execution_count": 125,
   "id": "941991a1",
   "metadata": {},
   "outputs": [
    {
     "name": "stdout",
     "output_type": "stream",
     "text": [
      "['__class__', '__class_getitem__', '__contains__', '__delattr__', '__delitem__', '__dir__', '__doc__', '__eq__', '__format__', '__ge__', '__getattribute__', '__getitem__', '__gt__', '__hash__', '__init__', '__init_subclass__', '__ior__', '__iter__', '__le__', '__len__', '__lt__', '__ne__', '__new__', '__or__', '__reduce__', '__reduce_ex__', '__repr__', '__reversed__', '__ror__', '__setattr__', '__setitem__', '__sizeof__', '__str__', '__subclasshook__', 'clear', 'copy', 'fromkeys', 'get', 'items', 'keys', 'pop', 'popitem', 'setdefault', 'update', 'values']\n"
     ]
    }
   ],
   "source": [
    "print(dir(dict))"
   ]
  },
  {
   "cell_type": "code",
   "execution_count": 126,
   "id": "14a6010e",
   "metadata": {},
   "outputs": [
    {
     "name": "stdout",
     "output_type": "stream",
     "text": [
      "{'name': ['Kiran', 'Rohit', 'suma', 'Kiran'], 'age': 23} <class 'dict'>\n"
     ]
    }
   ],
   "source": [
    "h = {'name':['Kiran','Rohit','suma','Kiran'],'age':23}\n",
    "print(h,type(h))"
   ]
  },
  {
   "cell_type": "code",
   "execution_count": 127,
   "id": "f21f08b9",
   "metadata": {},
   "outputs": [
    {
     "name": "stdout",
     "output_type": "stream",
     "text": [
      "['Kiran', 'Rohit', 'suma', 'Kiran']\n"
     ]
    }
   ],
   "source": [
    "print(h.get('name'))"
   ]
  },
  {
   "cell_type": "code",
   "execution_count": 128,
   "id": "93c64352",
   "metadata": {},
   "outputs": [
    {
     "name": "stdout",
     "output_type": "stream",
     "text": [
      "23\n"
     ]
    }
   ],
   "source": [
    "print(h['age'])"
   ]
  },
  {
   "cell_type": "code",
   "execution_count": 129,
   "id": "80dc3d90",
   "metadata": {},
   "outputs": [
    {
     "name": "stdout",
     "output_type": "stream",
     "text": [
      "dict_keys(['name', 'age'])\n"
     ]
    }
   ],
   "source": [
    "print(h.keys())"
   ]
  },
  {
   "cell_type": "code",
   "execution_count": 130,
   "id": "8fa56fb9",
   "metadata": {},
   "outputs": [
    {
     "name": "stdout",
     "output_type": "stream",
     "text": [
      "dict_values([['Kiran', 'Rohit', 'suma', 'Kiran'], 23])\n"
     ]
    }
   ],
   "source": [
    "print(h.values())"
   ]
  },
  {
   "cell_type": "code",
   "execution_count": 131,
   "id": "b0dc83b2",
   "metadata": {},
   "outputs": [
    {
     "name": "stdout",
     "output_type": "stream",
     "text": [
      "name <class 'str'>\n",
      "age <class 'str'>\n"
     ]
    }
   ],
   "source": [
    "for i in h:\n",
    "    print(i,type(i))"
   ]
  },
  {
   "cell_type": "code",
   "execution_count": 132,
   "id": "40c7eb48",
   "metadata": {},
   "outputs": [
    {
     "name": "stdout",
     "output_type": "stream",
     "text": [
      "('name', ['Kiran', 'Rohit', 'suma', 'Kiran']) <class 'tuple'>\n",
      "('age', 23) <class 'tuple'>\n"
     ]
    }
   ],
   "source": [
    "for i in h.items():\n",
    "    print(i,type(i))"
   ]
  },
  {
   "cell_type": "code",
   "execution_count": 133,
   "id": "16a6f590",
   "metadata": {},
   "outputs": [
    {
     "name": "stdout",
     "output_type": "stream",
     "text": [
      "name <class 'str'>\n",
      "age <class 'str'>\n"
     ]
    }
   ],
   "source": [
    "for i in h.keys():\n",
    "    print(i,type(i))"
   ]
  },
  {
   "cell_type": "code",
   "execution_count": 134,
   "id": "817a0d33",
   "metadata": {},
   "outputs": [
    {
     "name": "stdout",
     "output_type": "stream",
     "text": [
      "['Kiran', 'Rohit', 'suma', 'Kiran'] <class 'list'>\n",
      "23 <class 'int'>\n"
     ]
    }
   ],
   "source": [
    "for i in h.values():\n",
    "    print(i,type(i))"
   ]
  },
  {
   "cell_type": "code",
   "execution_count": 135,
   "id": "15b24717",
   "metadata": {},
   "outputs": [
    {
     "name": "stdout",
     "output_type": "stream",
     "text": [
      "{'name': ['Kiran', 'Rohit', 'suma', 'Kiran'], 'age': 23}\n",
      "{'name': ['Kiran', 'Rohit', 'suma', 'Kiran'], 'age': 23, 'sal': None}\n"
     ]
    }
   ],
   "source": [
    "print(h)\n",
    "h.setdefault('sal')\n",
    "print(h)"
   ]
  },
  {
   "cell_type": "code",
   "execution_count": 146,
   "id": "3778e7fd",
   "metadata": {},
   "outputs": [
    {
     "name": "stdout",
     "output_type": "stream",
     "text": [
      "{'name': ['Kiran', 'Rohit', 'suma', 'Kiran'], 'age': 23, 'sal': None, ('sal', 4500): None}\n",
      "{'name': ['Kiran', 'Rohit', 'suma', 'Kiran'], 'age': 23, 'sal': None, ('sal', 4500): None, 'branch': 'CSE'}\n"
     ]
    }
   ],
   "source": [
    "print(h)\n",
    "h.setdefault('branch','CSE')\n",
    "print(h)"
   ]
  },
  {
   "cell_type": "code",
   "execution_count": 148,
   "id": "863dbe50",
   "metadata": {},
   "outputs": [
    {
     "name": "stdout",
     "output_type": "stream",
     "text": [
      "{'name': ['Kiran', 'Rohit', 'suma', 'Kiran'], 'age': 23, 'sal': None, ('sal', 4500): None, 'branch': 'CSE'}\n"
     ]
    },
    {
     "ename": "TypeError",
     "evalue": "pop expected at least 1 argument, got 0",
     "output_type": "error",
     "traceback": [
      "\u001b[1;31m---------------------------------------------------------------------------\u001b[0m",
      "\u001b[1;31mTypeError\u001b[0m                                 Traceback (most recent call last)",
      "Cell \u001b[1;32mIn[148], line 2\u001b[0m\n\u001b[0;32m      1\u001b[0m \u001b[38;5;28mprint\u001b[39m(h)\n\u001b[1;32m----> 2\u001b[0m \u001b[43mh\u001b[49m\u001b[38;5;241;43m.\u001b[39;49m\u001b[43mpop\u001b[49m\u001b[43m(\u001b[49m\u001b[43m)\u001b[49m\n\u001b[0;32m      3\u001b[0m \u001b[38;5;28mprint\u001b[39m(h)\n",
      "\u001b[1;31mTypeError\u001b[0m: pop expected at least 1 argument, got 0"
     ]
    }
   ],
   "source": [
    "print(h)\n",
    "h.pop()\n",
    "print(h)"
   ]
  },
  {
   "cell_type": "code",
   "execution_count": 149,
   "id": "2b9017be",
   "metadata": {},
   "outputs": [
    {
     "name": "stdout",
     "output_type": "stream",
     "text": [
      "{'name': ['Kiran', 'Rohit', 'suma', 'Kiran'], 'age': 23, 'sal': None, ('sal', 4500): None, 'branch': 'CSE'}\n",
      "{'name': ['Kiran', 'Rohit', 'suma', 'Kiran'], 'age': 23, 'sal': None, 'branch': 'CSE'}\n"
     ]
    }
   ],
   "source": [
    "print(h)\n",
    "h.pop(('sal', 4500))\n",
    "print(h)"
   ]
  },
  {
   "cell_type": "code",
   "execution_count": 150,
   "id": "3148f5fd",
   "metadata": {},
   "outputs": [
    {
     "name": "stdout",
     "output_type": "stream",
     "text": [
      "{'name': ['Kiran', 'Rohit', 'suma', 'Kiran'], 'age': 23, 'sal': None, 'branch': 'CSE'}\n",
      "{'name': ['Kiran', 'Rohit', 'suma', 'Kiran'], 'sal': None, 'branch': 'CSE'}\n"
     ]
    }
   ],
   "source": [
    "print(h)\n",
    "h.pop('age')\n",
    "print(h)"
   ]
  },
  {
   "cell_type": "code",
   "execution_count": 151,
   "id": "c3563a84",
   "metadata": {},
   "outputs": [
    {
     "name": "stdout",
     "output_type": "stream",
     "text": [
      "{'name': ['Kiran', 'Rohit', 'suma', 'Kiran'], 'sal': None, 'branch': 'CSE'}\n"
     ]
    },
    {
     "ename": "KeyError",
     "evalue": "'address'",
     "output_type": "error",
     "traceback": [
      "\u001b[1;31m---------------------------------------------------------------------------\u001b[0m",
      "\u001b[1;31mKeyError\u001b[0m                                  Traceback (most recent call last)",
      "Cell \u001b[1;32mIn[151], line 2\u001b[0m\n\u001b[0;32m      1\u001b[0m \u001b[38;5;28mprint\u001b[39m(h)\n\u001b[1;32m----> 2\u001b[0m \u001b[43mh\u001b[49m\u001b[38;5;241;43m.\u001b[39;49m\u001b[43mpop\u001b[49m\u001b[43m(\u001b[49m\u001b[38;5;124;43m'\u001b[39;49m\u001b[38;5;124;43maddress\u001b[39;49m\u001b[38;5;124;43m'\u001b[39;49m\u001b[43m)\u001b[49m\n\u001b[0;32m      3\u001b[0m \u001b[38;5;28mprint\u001b[39m(h)\n",
      "\u001b[1;31mKeyError\u001b[0m: 'address'"
     ]
    }
   ],
   "source": [
    "print(h)\n",
    "h.pop('address')\n",
    "print(h)"
   ]
  },
  {
   "cell_type": "code",
   "execution_count": 152,
   "id": "a37f2079",
   "metadata": {},
   "outputs": [
    {
     "name": "stdout",
     "output_type": "stream",
     "text": [
      "{'name': ['Kiran', 'Rohit', 'suma', 'Kiran'], 'sal': None, 'branch': 'CSE'}\n",
      "{'name': ['Kiran', 'Rohit', 'suma', 'Kiran'], 'sal': None}\n"
     ]
    }
   ],
   "source": [
    "print(h)\n",
    "h.popitem()\n",
    "print(h)"
   ]
  },
  {
   "cell_type": "code",
   "execution_count": 153,
   "id": "9df148bd",
   "metadata": {},
   "outputs": [
    {
     "name": "stdout",
     "output_type": "stream",
     "text": [
      "{'name': ['Kiran', 'Rohit', 'suma', 'Kiran'], 'sal': None}\n"
     ]
    },
    {
     "ename": "TypeError",
     "evalue": "dict.popitem() takes no arguments (1 given)",
     "output_type": "error",
     "traceback": [
      "\u001b[1;31m---------------------------------------------------------------------------\u001b[0m",
      "\u001b[1;31mTypeError\u001b[0m                                 Traceback (most recent call last)",
      "Cell \u001b[1;32mIn[153], line 2\u001b[0m\n\u001b[0;32m      1\u001b[0m \u001b[38;5;28mprint\u001b[39m(h)\n\u001b[1;32m----> 2\u001b[0m \u001b[43mh\u001b[49m\u001b[38;5;241;43m.\u001b[39;49m\u001b[43mpopitem\u001b[49m\u001b[43m(\u001b[49m\u001b[38;5;124;43m'\u001b[39;49m\u001b[38;5;124;43mname\u001b[39;49m\u001b[38;5;124;43m'\u001b[39;49m\u001b[43m)\u001b[49m\n\u001b[0;32m      3\u001b[0m \u001b[38;5;28mprint\u001b[39m(h)\n",
      "\u001b[1;31mTypeError\u001b[0m: dict.popitem() takes no arguments (1 given)"
     ]
    }
   ],
   "source": [
    "print(h)\n",
    "h.popitem('name')\n",
    "print(h)"
   ]
  },
  {
   "cell_type": "code",
   "execution_count": 157,
   "id": "364c1dd1",
   "metadata": {},
   "outputs": [
    {
     "name": "stdout",
     "output_type": "stream",
     "text": [
      "{'name': ['Kiran', 'Rohit', 'suma', 'Kiran'], 'sal': None}\n",
      "{'name': ['Kiran', 'Rohit', 'suma', 'Kiran'], 'sal': 45000}\n"
     ]
    }
   ],
   "source": [
    "print(h)\n",
    "h.update({'sal':45000})\n",
    "print(h)"
   ]
  },
  {
   "cell_type": "code",
   "execution_count": 158,
   "id": "9718f8af",
   "metadata": {},
   "outputs": [
    {
     "name": "stdout",
     "output_type": "stream",
     "text": [
      "{'name': ['Kiran', 'Rohit', 'suma', 'Kiran'], 'sal': 45000}\n",
      "{'name': ['Kiran', 'Rohit', 'suma', 'Kiran'], 'sal': 45000, 'branch': None}\n"
     ]
    }
   ],
   "source": [
    "print(h)\n",
    "h.setdefault('branch')\n",
    "print(h)"
   ]
  },
  {
   "cell_type": "code",
   "execution_count": 159,
   "id": "16ecd447",
   "metadata": {},
   "outputs": [
    {
     "name": "stdout",
     "output_type": "stream",
     "text": [
      "{'name': ['Kiran', 'Rohit', 'suma', 'Kiran'], 'sal': 45000, 'branch': None}\n",
      "{'name': ['Kiran', 'Rohit', 'suma', 'Kiran'], 'sal': 45000, 'branch': 'CSE'}\n"
     ]
    }
   ],
   "source": [
    "print(h)\n",
    "h['branch'] = 'CSE'\n",
    "print(h)"
   ]
  },
  {
   "cell_type": "code",
   "execution_count": 160,
   "id": "195b8d61",
   "metadata": {},
   "outputs": [
    {
     "name": "stdout",
     "output_type": "stream",
     "text": [
      "{12: None, 4: None}\n"
     ]
    }
   ],
   "source": [
    "q = [12,4]\n",
    "z = {}\n",
    "print(z.fromkeys(q))"
   ]
  },
  {
   "cell_type": "code",
   "execution_count": 163,
   "id": "fee07249",
   "metadata": {},
   "outputs": [
    {
     "name": "stdout",
     "output_type": "stream",
     "text": [
      "{96, 0, '0.25', 5, 8, 45, 'arun', 'Prasad'}\n"
     ]
    },
    {
     "data": {
      "text/plain": [
       "{0, '0.25', 45, 5, 8, 96, 'Prasad', 'arun'}"
      ]
     },
     "execution_count": 163,
     "metadata": {},
     "output_type": "execute_result"
    }
   ],
   "source": [
    "z = {45,8,5,96,'Prasad',45,0,'0.25',False,'arun'}\n",
    "print(z)\n",
    "z"
   ]
  },
  {
   "cell_type": "code",
   "execution_count": 164,
   "id": "b6ab94d0",
   "metadata": {},
   "outputs": [
    {
     "name": "stdout",
     "output_type": "stream",
     "text": [
      "96 0 0.25 5 8 45 arun Prasad "
     ]
    }
   ],
   "source": [
    "for i in z:\n",
    "    print(i,end=\" \")"
   ]
  },
  {
   "cell_type": "code",
   "execution_count": 165,
   "id": "4f0646be",
   "metadata": {},
   "outputs": [
    {
     "name": "stdout",
     "output_type": "stream",
     "text": [
      "['__and__', '__class__', '__class_getitem__', '__contains__', '__delattr__', '__dir__', '__doc__', '__eq__', '__format__', '__ge__', '__getattribute__', '__gt__', '__hash__', '__iand__', '__init__', '__init_subclass__', '__ior__', '__isub__', '__iter__', '__ixor__', '__le__', '__len__', '__lt__', '__ne__', '__new__', '__or__', '__rand__', '__reduce__', '__reduce_ex__', '__repr__', '__ror__', '__rsub__', '__rxor__', '__setattr__', '__sizeof__', '__str__', '__sub__', '__subclasshook__', '__xor__', 'add', 'clear', 'copy', 'difference', 'difference_update', 'discard', 'intersection', 'intersection_update', 'isdisjoint', 'issubset', 'issuperset', 'pop', 'remove', 'symmetric_difference', 'symmetric_difference_update', 'union', 'update']\n"
     ]
    }
   ],
   "source": [
    "print(dir(set))"
   ]
  },
  {
   "cell_type": "code",
   "execution_count": 178,
   "id": "96b679fa",
   "metadata": {},
   "outputs": [
    {
     "name": "stdout",
     "output_type": "stream",
     "text": [
      "5\n",
      "enter element: 10\n",
      "enter element: 7\n",
      "enter element: 2\n",
      "enter element: 3\n",
      "enter element: 8\n",
      "Elements are:  10 7 2 3 8 "
     ]
    }
   ],
   "source": [
    "list_val=[]\n",
    "num=int(input())\n",
    "for i in range(num):\n",
    "    element=int(input(\"enter element: \"))\n",
    "    list_val.append(element)\n",
    "print(\"Elements are: \",end=\" \") \n",
    "for j in list_val:\n",
    "    print(j,end=\" \")"
   ]
  },
  {
   "cell_type": "code",
   "execution_count": 182,
   "id": "fba129c9",
   "metadata": {},
   "outputs": [
    {
     "name": "stdout",
     "output_type": "stream",
     "text": [
      "['__and__', '__class__', '__class_getitem__', '__contains__', '__delattr__', '__dir__', '__doc__', '__eq__', '__format__', '__ge__', '__getattribute__', '__gt__', '__hash__', '__iand__', '__init__', '__init_subclass__', '__ior__', '__isub__', '__iter__', '__ixor__', '__le__', '__len__', '__lt__', '__ne__', '__new__', '__or__', '__rand__', '__reduce__', '__reduce_ex__', '__repr__', '__ror__', '__rsub__', '__rxor__', '__setattr__', '__sizeof__', '__str__', '__sub__', '__subclasshook__', '__xor__', 'add', 'clear', 'copy', 'difference', 'difference_update', 'discard', 'intersection', 'intersection_update', 'isdisjoint', 'issubset', 'issuperset', 'pop', 'remove', 'symmetric_difference', 'symmetric_difference_update', 'union', 'update']\n"
     ]
    }
   ],
   "source": [
    "print(dir(set))"
   ]
  },
  {
   "cell_type": "code",
   "execution_count": 183,
   "id": "650515ab",
   "metadata": {},
   "outputs": [
    {
     "name": "stdout",
     "output_type": "stream",
     "text": [
      "{98, 5, 6, 9, 45, 78}\n",
      "{5, 9, 12, 45, 63}\n"
     ]
    }
   ],
   "source": [
    "a = {45,78,9,6,5,98}\n",
    "b = {12,45,9,63,5}\n",
    "print(a)\n",
    "print(b)"
   ]
  },
  {
   "cell_type": "code",
   "execution_count": 184,
   "id": "f1114bf7",
   "metadata": {},
   "outputs": [
    {
     "name": "stdout",
     "output_type": "stream",
     "text": [
      "{98, 5, 6, 9, 45, 78}\n",
      "{5, 9, 12, 45, 63}\n",
      "{98, 5, 6, 9, 12, 45, 78, 63}\n",
      "{98, 5, 6, 9, 45, 78}\n",
      "{5, 9, 12, 45, 63}\n"
     ]
    }
   ],
   "source": [
    "print(a)\n",
    "print(b)\n",
    "print(a.union(b))\n",
    "print(a)\n",
    "print(b)"
   ]
  },
  {
   "cell_type": "code",
   "execution_count": 185,
   "id": "bcc6548c",
   "metadata": {},
   "outputs": [
    {
     "name": "stdout",
     "output_type": "stream",
     "text": [
      "{98, 5, 6, 9, 45, 78}\n",
      "{5, 9, 12, 45, 63}\n",
      "{9, 45, 5}\n",
      "{98, 5, 6, 9, 45, 78}\n",
      "{5, 9, 12, 45, 63}\n"
     ]
    }
   ],
   "source": [
    "print(a)\n",
    "print(b)\n",
    "print(a.intersection(b))\n",
    "print(a)\n",
    "print(b)"
   ]
  },
  {
   "cell_type": "code",
   "execution_count": 186,
   "id": "39e3e3d0",
   "metadata": {},
   "outputs": [
    {
     "name": "stdout",
     "output_type": "stream",
     "text": [
      "{98, 5, 6, 9, 45, 78}\n",
      "{5, 9, 12, 45, 63}\n",
      "{78, 98, 6}\n",
      "{98, 5, 6, 9, 45, 78}\n",
      "{5, 9, 12, 45, 63}\n"
     ]
    }
   ],
   "source": [
    "print(a)\n",
    "print(b)\n",
    "print(a.difference(b))\n",
    "print(a)\n",
    "print(b)"
   ]
  },
  {
   "cell_type": "code",
   "execution_count": 187,
   "id": "2d524cd9",
   "metadata": {},
   "outputs": [
    {
     "name": "stdout",
     "output_type": "stream",
     "text": [
      "{98, 5, 6, 9, 45, 78}\n",
      "{5, 9, 12, 45, 63}\n",
      "{98, 6, 12, 78, 63}\n",
      "{98, 5, 6, 9, 45, 78}\n",
      "{5, 9, 12, 45, 63}\n"
     ]
    }
   ],
   "source": [
    "print(a)\n",
    "print(b)\n",
    "print(a.symmetric_difference(b))\n",
    "print(a)\n",
    "print(b)"
   ]
  },
  {
   "cell_type": "code",
   "execution_count": 188,
   "id": "8c550c48",
   "metadata": {},
   "outputs": [
    {
     "name": "stdout",
     "output_type": "stream",
     "text": [
      "{3, 45, 78, 6}\n",
      "{8912, 3, 12, 45}\n",
      "{3, 45}\n",
      "{8912, 3, 12, 45}\n"
     ]
    }
   ],
   "source": [
    "g = {45,78,6,3}\n",
    "h = {45,3,45,8912,12}\n",
    "print(g)\n",
    "print(h)\n",
    "g.intersection_update(h)\n",
    "print(g)\n",
    "print(h)"
   ]
  },
  {
   "cell_type": "code",
   "execution_count": 189,
   "id": "876bbdf4",
   "metadata": {},
   "outputs": [
    {
     "name": "stdout",
     "output_type": "stream",
     "text": [
      "{3, 45, 78, 6}\n",
      "{8912, 3, 12, 45}\n",
      "{6, 78}\n",
      "{8912, 3, 12, 45}\n"
     ]
    }
   ],
   "source": [
    "g = {45,78,6,3}\n",
    "h = {45,3,45,8912,12}\n",
    "print(g)\n",
    "print(h)\n",
    "g.difference_update(h)\n",
    "print(g)\n",
    "print(h)"
   ]
  },
  {
   "cell_type": "code",
   "execution_count": 190,
   "id": "c75c45f2",
   "metadata": {},
   "outputs": [
    {
     "name": "stdout",
     "output_type": "stream",
     "text": [
      "{3, 45, 78, 6}\n",
      "{8912, 3, 12, 45}\n",
      "{6, 12, 78, 8912}\n",
      "{8912, 3, 12, 45}\n"
     ]
    }
   ],
   "source": [
    "g = {45,78,6,3}\n",
    "h = {45,3,45,8912,12}\n",
    "print(g)\n",
    "print(h)\n",
    "g.symmetric_difference_update(h)\n",
    "print(g)\n",
    "print(h)"
   ]
  },
  {
   "cell_type": "code",
   "execution_count": 191,
   "id": "ad3bbe56",
   "metadata": {},
   "outputs": [
    {
     "name": "stdout",
     "output_type": "stream",
     "text": [
      "{56, 12, 78}\n",
      "{56, 12, 45, 78}\n"
     ]
    }
   ],
   "source": [
    "b = {12,78,56}\n",
    "print(b)\n",
    "b.add(45)\n",
    "print(b)"
   ]
  },
  {
   "cell_type": "code",
   "execution_count": 192,
   "id": "9ba2f5f6",
   "metadata": {},
   "outputs": [
    {
     "name": "stdout",
     "output_type": "stream",
     "text": [
      "{56, 12, 78}\n"
     ]
    },
    {
     "ename": "TypeError",
     "evalue": "set.add() takes exactly one argument (3 given)",
     "output_type": "error",
     "traceback": [
      "\u001b[1;31m---------------------------------------------------------------------------\u001b[0m",
      "\u001b[1;31mTypeError\u001b[0m                                 Traceback (most recent call last)",
      "Cell \u001b[1;32mIn[192], line 3\u001b[0m\n\u001b[0;32m      1\u001b[0m b \u001b[38;5;241m=\u001b[39m {\u001b[38;5;241m12\u001b[39m,\u001b[38;5;241m78\u001b[39m,\u001b[38;5;241m56\u001b[39m}\n\u001b[0;32m      2\u001b[0m \u001b[38;5;28mprint\u001b[39m(b)\n\u001b[1;32m----> 3\u001b[0m \u001b[43mb\u001b[49m\u001b[38;5;241;43m.\u001b[39;49m\u001b[43madd\u001b[49m\u001b[43m(\u001b[49m\u001b[38;5;241;43m45\u001b[39;49m\u001b[43m,\u001b[49m\u001b[38;5;241;43m78\u001b[39;49m\u001b[43m,\u001b[49m\u001b[38;5;241;43m96\u001b[39;49m\u001b[43m)\u001b[49m\n\u001b[0;32m      4\u001b[0m \u001b[38;5;28mprint\u001b[39m(b)\n",
      "\u001b[1;31mTypeError\u001b[0m: set.add() takes exactly one argument (3 given)"
     ]
    }
   ],
   "source": [
    "b = {12,78,56}\n",
    "print(b)\n",
    "b.add(45,78,96)\n",
    "print(b)"
   ]
  },
  {
   "cell_type": "code",
   "execution_count": 193,
   "id": "7f38454f",
   "metadata": {},
   "outputs": [
    {
     "name": "stdout",
     "output_type": "stream",
     "text": [
      "{56, 12, 78}\n"
     ]
    },
    {
     "ename": "TypeError",
     "evalue": "unhashable type: 'list'",
     "output_type": "error",
     "traceback": [
      "\u001b[1;31m---------------------------------------------------------------------------\u001b[0m",
      "\u001b[1;31mTypeError\u001b[0m                                 Traceback (most recent call last)",
      "Cell \u001b[1;32mIn[193], line 3\u001b[0m\n\u001b[0;32m      1\u001b[0m b \u001b[38;5;241m=\u001b[39m {\u001b[38;5;241m12\u001b[39m,\u001b[38;5;241m78\u001b[39m,\u001b[38;5;241m56\u001b[39m}\n\u001b[0;32m      2\u001b[0m \u001b[38;5;28mprint\u001b[39m(b)\n\u001b[1;32m----> 3\u001b[0m \u001b[43mb\u001b[49m\u001b[38;5;241;43m.\u001b[39;49m\u001b[43madd\u001b[49m\u001b[43m(\u001b[49m\u001b[43m[\u001b[49m\u001b[38;5;241;43m45\u001b[39;49m\u001b[43m,\u001b[49m\u001b[38;5;241;43m12\u001b[39;49m\u001b[43m,\u001b[49m\u001b[38;5;241;43m85\u001b[39;49m\u001b[43m]\u001b[49m\u001b[43m)\u001b[49m\n\u001b[0;32m      4\u001b[0m \u001b[38;5;28mprint\u001b[39m(b)\n",
      "\u001b[1;31mTypeError\u001b[0m: unhashable type: 'list'"
     ]
    }
   ],
   "source": [
    "b = {12,78,56}\n",
    "print(b)\n",
    "b.add([45,12,85])\n",
    "print(b)"
   ]
  },
  {
   "cell_type": "code",
   "execution_count": 194,
   "id": "629cca8e",
   "metadata": {},
   "outputs": [
    {
     "name": "stdout",
     "output_type": "stream",
     "text": [
      "{56, 12, 78}\n",
      "{56, (45, 12, 96, 4), 12, 78}\n"
     ]
    }
   ],
   "source": [
    "b = {12,78,56}\n",
    "print(b)\n",
    "b.add((45,12,96,4))\n",
    "print(b)"
   ]
  },
  {
   "cell_type": "code",
   "execution_count": 195,
   "id": "d7d2b413",
   "metadata": {},
   "outputs": [
    {
     "name": "stdout",
     "output_type": "stream",
     "text": [
      "{56, (45, 12, 96, 4), 12, 78}\n",
      "{56, (45, 12, 96, 4), 12, 78}\n"
     ]
    }
   ],
   "source": [
    "print(b)\n",
    "v =b.copy()\n",
    "print(v)"
   ]
  },
  {
   "cell_type": "code",
   "execution_count": 196,
   "id": "aae1c08c",
   "metadata": {},
   "outputs": [
    {
     "name": "stdout",
     "output_type": "stream",
     "text": [
      "{56, (45, 12, 96, 4), 12, 78}\n",
      "{(45, 12, 96, 4), 12, 78}\n"
     ]
    }
   ],
   "source": [
    "print(b)\n",
    "b.pop()\n",
    "print(b)"
   ]
  },
  {
   "cell_type": "code",
   "execution_count": 197,
   "id": "3341f96e",
   "metadata": {},
   "outputs": [
    {
     "name": "stdout",
     "output_type": "stream",
     "text": [
      "{(45, 12, 96, 4), 12, 78}\n"
     ]
    },
    {
     "ename": "TypeError",
     "evalue": "set.pop() takes no arguments (1 given)",
     "output_type": "error",
     "traceback": [
      "\u001b[1;31m---------------------------------------------------------------------------\u001b[0m",
      "\u001b[1;31mTypeError\u001b[0m                                 Traceback (most recent call last)",
      "Cell \u001b[1;32mIn[197], line 2\u001b[0m\n\u001b[0;32m      1\u001b[0m \u001b[38;5;28mprint\u001b[39m(b)\n\u001b[1;32m----> 2\u001b[0m \u001b[43mb\u001b[49m\u001b[38;5;241;43m.\u001b[39;49m\u001b[43mpop\u001b[49m\u001b[43m(\u001b[49m\u001b[38;5;241;43m12\u001b[39;49m\u001b[43m)\u001b[49m\n\u001b[0;32m      3\u001b[0m \u001b[38;5;28mprint\u001b[39m(b)\n",
      "\u001b[1;31mTypeError\u001b[0m: set.pop() takes no arguments (1 given)"
     ]
    }
   ],
   "source": [
    "print(b)\n",
    "b.pop(12)\n",
    "print(b)"
   ]
  },
  {
   "cell_type": "code",
   "execution_count": 202,
   "id": "c4c47b15",
   "metadata": {},
   "outputs": [
    {
     "name": "stdout",
     "output_type": "stream",
     "text": [
      "{200, 89, 56, 12, 78}\n",
      "{89, 56, 12, 78}\n"
     ]
    }
   ],
   "source": [
    "k = {12,78,56,89,200}\n",
    "print(k)\n",
    "k.discard(200)\n",
    "print(k)"
   ]
  },
  {
   "cell_type": "code",
   "execution_count": 203,
   "id": "794da21e",
   "metadata": {},
   "outputs": [
    {
     "name": "stdout",
     "output_type": "stream",
     "text": [
      "this is sample example <class 'str'>\n"
     ]
    }
   ],
   "source": [
    "g = 'this is sample example'\n",
    "print(g,type(g))"
   ]
  },
  {
   "cell_type": "code",
   "execution_count": 204,
   "id": "80f103c1",
   "metadata": {},
   "outputs": [
    {
     "name": "stdout",
     "output_type": "stream",
     "text": [
      "t h i s   i s   s a m p l e   e x a m p l e "
     ]
    }
   ],
   "source": [
    "for i in g:\n",
    "    print(i,end=\" \")"
   ]
  },
  {
   "cell_type": "code",
   "execution_count": 205,
   "id": "daf73454",
   "metadata": {},
   "outputs": [
    {
     "name": "stdout",
     "output_type": "stream",
     "text": [
      "['__add__', '__class__', '__contains__', '__delattr__', '__dir__', '__doc__', '__eq__', '__format__', '__ge__', '__getattribute__', '__getitem__', '__getnewargs__', '__gt__', '__hash__', '__init__', '__init_subclass__', '__iter__', '__le__', '__len__', '__lt__', '__mod__', '__mul__', '__ne__', '__new__', '__reduce__', '__reduce_ex__', '__repr__', '__rmod__', '__rmul__', '__setattr__', '__sizeof__', '__str__', '__subclasshook__', 'capitalize', 'casefold', 'center', 'count', 'encode', 'endswith', 'expandtabs', 'find', 'format', 'format_map', 'index', 'isalnum', 'isalpha', 'isascii', 'isdecimal', 'isdigit', 'isidentifier', 'islower', 'isnumeric', 'isprintable', 'isspace', 'istitle', 'isupper', 'join', 'ljust', 'lower', 'lstrip', 'maketrans', 'partition', 'removeprefix', 'removesuffix', 'replace', 'rfind', 'rindex', 'rjust', 'rpartition', 'rsplit', 'rstrip', 'split', 'splitlines', 'startswith', 'strip', 'swapcase', 'title', 'translate', 'upper', 'zfill']\n"
     ]
    }
   ],
   "source": [
    "print(dir(str))"
   ]
  },
  {
   "cell_type": "code",
   "execution_count": 206,
   "id": "702039de",
   "metadata": {},
   "outputs": [
    {
     "name": "stdout",
     "output_type": "stream",
     "text": [
      "This Is a ApSsDc Lab\n",
      "tHIS iS A aPsSdC lAB\n",
      "This Is A Apssdc Lab\n",
      "this is a apssdc lab\n",
      "This is a apssdc lab\n"
     ]
    }
   ],
   "source": [
    "n = \"This Is a ApSsDc Lab\"\n",
    "print(n)\n",
    "print(n.swapcase())\n",
    "print(n.title())\n",
    "print(n.casefold())\n",
    "print(n.capitalize())"
   ]
  },
  {
   "cell_type": "code",
   "execution_count": 213,
   "id": "36a362f0",
   "metadata": {},
   "outputs": [
    {
     "name": "stdout",
     "output_type": "stream",
     "text": [
      "    THis is sample example\n",
      "Demo Exmaple for justification     \n",
      "THis is sample example\n",
      "Demo Exmaple for justification\n",
      "THis is sample example\n",
      "Demo Exmaple for justification\n",
      "                            THis is sample example\n",
      "Demo Exmaple for justification                    \n",
      "                THis is sample example            \n"
     ]
    }
   ],
   "source": [
    "a = \"    THis is sample example\"\n",
    "b = \"Demo Exmaple for justification     \"\n",
    "print(a)\n",
    "print(b)\n",
    "print(a.strip())\n",
    "print(b.strip())\n",
    "print(a.lstrip())\n",
    "print(b.rstrip())\n",
    "print(a.rjust(50))\n",
    "print(b.ljust(50))\n",
    "print(a.center(50))"
   ]
  },
  {
   "cell_type": "code",
   "execution_count": 216,
   "id": "d0739ac1",
   "metadata": {},
   "outputs": [
    {
     "name": "stdout",
     "output_type": "stream",
     "text": [
      "1\n",
      "9\n"
     ]
    },
    {
     "ename": "ValueError",
     "evalue": "substring not found",
     "output_type": "error",
     "traceback": [
      "\u001b[1;31m---------------------------------------------------------------------------\u001b[0m",
      "\u001b[1;31mValueError\u001b[0m                                Traceback (most recent call last)",
      "Cell \u001b[1;32mIn[216], line 4\u001b[0m\n\u001b[0;32m      2\u001b[0m \u001b[38;5;28mprint\u001b[39m(h\u001b[38;5;241m.\u001b[39mindex(\u001b[38;5;124m'\u001b[39m\u001b[38;5;124ma\u001b[39m\u001b[38;5;124m'\u001b[39m))\n\u001b[0;32m      3\u001b[0m \u001b[38;5;28mprint\u001b[39m(h\u001b[38;5;241m.\u001b[39mrindex(\u001b[38;5;124m'\u001b[39m\u001b[38;5;124ma\u001b[39m\u001b[38;5;124m'\u001b[39m))\n\u001b[1;32m----> 4\u001b[0m \u001b[38;5;28mprint\u001b[39m(\u001b[43mh\u001b[49m\u001b[38;5;241;43m.\u001b[39;49m\u001b[43mindex\u001b[49m\u001b[43m(\u001b[49m\u001b[38;5;124;43m'\u001b[39;49m\u001b[38;5;124;43mz\u001b[39;49m\u001b[38;5;124;43m'\u001b[39;49m\u001b[43m)\u001b[49m)\n",
      "\u001b[1;31mValueError\u001b[0m: substring not found"
     ]
    }
   ],
   "source": [
    "h = \"Sample example for Python \"\n",
    "print(h.index('a'))\n",
    "print(h.rindex('a'))\n",
    "print(h.index('z'))"
   ]
  },
  {
   "cell_type": "code",
   "execution_count": 217,
   "id": "5b065c83",
   "metadata": {},
   "outputs": [
    {
     "name": "stdout",
     "output_type": "stream",
     "text": [
      "Sample example for Python \n"
     ]
    },
    {
     "ename": "ValueError",
     "evalue": "substring not found",
     "output_type": "error",
     "traceback": [
      "\u001b[1;31m---------------------------------------------------------------------------\u001b[0m",
      "\u001b[1;31mValueError\u001b[0m                                Traceback (most recent call last)",
      "Cell \u001b[1;32mIn[217], line 2\u001b[0m\n\u001b[0;32m      1\u001b[0m \u001b[38;5;28mprint\u001b[39m(h)\n\u001b[1;32m----> 2\u001b[0m \u001b[38;5;28mprint\u001b[39m(\u001b[43mh\u001b[49m\u001b[38;5;241;43m.\u001b[39;49m\u001b[43mrindex\u001b[49m\u001b[43m(\u001b[49m\u001b[38;5;124;43m'\u001b[39;49m\u001b[38;5;124;43mz\u001b[39;49m\u001b[38;5;124;43m'\u001b[39;49m\u001b[43m)\u001b[49m)\n",
      "\u001b[1;31mValueError\u001b[0m: substring not found"
     ]
    }
   ],
   "source": [
    "print(h)\n",
    "print(h.rindex('z'))"
   ]
  },
  {
   "cell_type": "code",
   "execution_count": 220,
   "id": "b4fe3ac1",
   "metadata": {},
   "outputs": [
    {
     "name": "stdout",
     "output_type": "stream",
     "text": [
      "Sample example for Python \n",
      "1\n",
      "-1\n",
      "9\n",
      "-1\n"
     ]
    }
   ],
   "source": [
    "print(h)\n",
    "print(h.find('a'))\n",
    "print(h.find('z'))\n",
    "print(h.rfind('a'))\n",
    "print(h.rfind('z'))"
   ]
  },
  {
   "cell_type": "code",
   "execution_count": 225,
   "id": "ccbea554",
   "metadata": {},
   "outputs": [
    {
     "name": "stdout",
     "output_type": "stream",
     "text": [
      "Sample example for Python \n",
      "Sample example for Aython \n",
      "Sample example for Python \n"
     ]
    }
   ],
   "source": [
    "print(h)\n",
    "print(h.replace('P','A'))\n",
    "print(h)"
   ]
  },
  {
   "cell_type": "code",
   "execution_count": 227,
   "id": "0bf61292",
   "metadata": {},
   "outputs": [
    {
     "name": "stdout",
     "output_type": "stream",
     "text": [
      "R-a-j-e-s-h- -i-s- -a- -g-o-o-d- -b-o-y\n"
     ]
    }
   ],
   "source": [
    "m = \"Rajesh is a good boy\"\n",
    "n = \"-\".join(m)\n",
    "print(n)"
   ]
  },
  {
   "cell_type": "code",
   "execution_count": 228,
   "id": "b1c36c2e",
   "metadata": {},
   "outputs": [
    {
     "name": "stdout",
     "output_type": "stream",
     "text": [
      "TILAK IS GOOD AT TEACHING\n",
      "tilak is good at teaching\n"
     ]
    }
   ],
   "source": [
    "j = \"TiLak is good at Teaching\"\n",
    "print(j.upper())\n",
    "print(j.lower())"
   ]
  },
  {
   "cell_type": "code",
   "execution_count": 230,
   "id": "36783bba",
   "metadata": {},
   "outputs": [
    {
     "name": "stdout",
     "output_type": "stream",
     "text": [
      "1,5,3,6,8,9\n",
      "['1', '5', '3', '6', '8', '9'] <class 'list'>\n"
     ]
    }
   ],
   "source": [
    "k = input().split(',')\n",
    "print(k,type(k))"
   ]
  },
  {
   "cell_type": "code",
   "execution_count": null,
   "id": "30b439a2",
   "metadata": {},
   "outputs": [],
   "source": []
  }
 ],
 "metadata": {
  "kernelspec": {
   "display_name": "Python 3 (ipykernel)",
   "language": "python",
   "name": "python3"
  },
  "language_info": {
   "codemirror_mode": {
    "name": "ipython",
    "version": 3
   },
   "file_extension": ".py",
   "mimetype": "text/x-python",
   "name": "python",
   "nbconvert_exporter": "python",
   "pygments_lexer": "ipython3",
   "version": "3.9.13"
  }
 },
 "nbformat": 4,
 "nbformat_minor": 5
}
