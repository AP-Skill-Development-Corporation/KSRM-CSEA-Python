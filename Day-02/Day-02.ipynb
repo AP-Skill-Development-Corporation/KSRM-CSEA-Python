{
 "cells": [
  {
   "cell_type": "markdown",
   "id": "fe2be35c",
   "metadata": {},
   "source": [
    "## Variable assignments:"
   ]
  },
  {
   "cell_type": "code",
   "execution_count": 1,
   "id": "c816e6b1",
   "metadata": {},
   "outputs": [
    {
     "data": {
      "text/plain": [
       "(10, 45.0)"
      ]
     },
     "execution_count": 1,
     "metadata": {},
     "output_type": "execute_result"
    }
   ],
   "source": [
    "a,b = 10,45.00\n",
    "a,b"
   ]
  },
  {
   "cell_type": "code",
   "execution_count": 2,
   "id": "f873012c",
   "metadata": {},
   "outputs": [
    {
     "ename": "ValueError",
     "evalue": "not enough values to unpack (expected 3, got 2)",
     "output_type": "error",
     "traceback": [
      "\u001b[1;31m---------------------------------------------------------------------------\u001b[0m",
      "\u001b[1;31mValueError\u001b[0m                                Traceback (most recent call last)",
      "Cell \u001b[1;32mIn[2], line 1\u001b[0m\n\u001b[1;32m----> 1\u001b[0m c,d,e \u001b[38;5;241m=\u001b[39m \u001b[38;5;241m12\u001b[39m,\u001b[38;5;241m45.012\u001b[39m\n\u001b[0;32m      2\u001b[0m c,d,e\n",
      "\u001b[1;31mValueError\u001b[0m: not enough values to unpack (expected 3, got 2)"
     ]
    }
   ],
   "source": [
    "c,d,e = 12,45.012\n",
    "c,d,e"
   ]
  },
  {
   "cell_type": "code",
   "execution_count": 3,
   "id": "ac5b683c",
   "metadata": {},
   "outputs": [
    {
     "ename": "ValueError",
     "evalue": "too many values to unpack (expected 2)",
     "output_type": "error",
     "traceback": [
      "\u001b[1;31m---------------------------------------------------------------------------\u001b[0m",
      "\u001b[1;31mValueError\u001b[0m                                Traceback (most recent call last)",
      "Cell \u001b[1;32mIn[3], line 1\u001b[0m\n\u001b[1;32m----> 1\u001b[0m w,e \u001b[38;5;241m=\u001b[39m \u001b[38;5;124m'\u001b[39m\u001b[38;5;124mPrasad\u001b[39m\u001b[38;5;124m'\u001b[39m,\u001b[38;5;124m'\u001b[39m\u001b[38;5;124mTilak\u001b[39m\u001b[38;5;124m'\u001b[39m,\u001b[38;5;241m20\u001b[39m\n\u001b[0;32m      2\u001b[0m w,e\n",
      "\u001b[1;31mValueError\u001b[0m: too many values to unpack (expected 2)"
     ]
    }
   ],
   "source": [
    "w,e = 'Prasad','Tilak',20\n",
    "w,e"
   ]
  },
  {
   "cell_type": "code",
   "execution_count": 6,
   "id": "2161dc12",
   "metadata": {},
   "outputs": [
    {
     "data": {
      "text/plain": [
       "((10, 45, 'Praveen'), (10, 45, 'Praveen'), (10, 45, 'Praveen'))"
      ]
     },
     "execution_count": 6,
     "metadata": {},
     "output_type": "execute_result"
    }
   ],
   "source": [
    "n = m = k = 10,45,'Praveen'\n",
    "n,m,k"
   ]
  },
  {
   "cell_type": "code",
   "execution_count": 7,
   "id": "fb05f6c3",
   "metadata": {},
   "outputs": [
    {
     "data": {
      "text/plain": [
       "'45'"
      ]
     },
     "execution_count": 7,
     "metadata": {},
     "output_type": "execute_result"
    }
   ],
   "source": [
    "n = '45'\n",
    "n"
   ]
  },
  {
   "cell_type": "code",
   "execution_count": 8,
   "id": "6bc04c70",
   "metadata": {},
   "outputs": [
    {
     "name": "stdout",
     "output_type": "stream",
     "text": [
      "45.121\n"
     ]
    }
   ],
   "source": [
    "m = '45.121'\n",
    "print(m)"
   ]
  },
  {
   "cell_type": "markdown",
   "id": "c4aeb32c",
   "metadata": {},
   "source": [
    "## Type:\n",
    "    - To know the data type of a variable\n",
    "    Syntax:\n",
    "        type(variablename)"
   ]
  },
  {
   "cell_type": "code",
   "execution_count": 10,
   "id": "eb402bc7",
   "metadata": {},
   "outputs": [
    {
     "data": {
      "text/plain": [
       "str"
      ]
     },
     "execution_count": 10,
     "metadata": {},
     "output_type": "execute_result"
    }
   ],
   "source": [
    "k = '78'\n",
    "type(k)"
   ]
  },
  {
   "cell_type": "code",
   "execution_count": 11,
   "id": "fb88ebd4",
   "metadata": {},
   "outputs": [
    {
     "name": "stdout",
     "output_type": "stream",
     "text": [
      "45.0215 <class 'str'>\n"
     ]
    }
   ],
   "source": [
    "w = '45.0215'\n",
    "print(w,type(w))"
   ]
  },
  {
   "cell_type": "code",
   "execution_count": 16,
   "id": "6919a673",
   "metadata": {},
   "outputs": [
    {
     "name": "stdout",
     "output_type": "stream",
     "text": [
      "<class 'int'> <class 'float'> <class 'bool'> <class 'str'> <class 'complex'> <class 'NoneType'>\n"
     ]
    }
   ],
   "source": [
    "a,b,c,d,e,f = 12,78.000,False,'Lalitha',45+5j,None\n",
    "print(type(a),type(b),type(c),type(d),type(e),type(f))"
   ]
  },
  {
   "cell_type": "code",
   "execution_count": 17,
   "id": "349b7d2a",
   "metadata": {},
   "outputs": [
    {
     "ename": "SyntaxError",
     "evalue": "cannot assign to literal (2928410432.py, line 1)",
     "output_type": "error",
     "traceback": [
      "\u001b[1;36m  Cell \u001b[1;32mIn[17], line 1\u001b[1;36m\u001b[0m\n\u001b[1;33m    a=0,b=50,n=30\u001b[0m\n\u001b[1;37m      ^\u001b[0m\n\u001b[1;31mSyntaxError\u001b[0m\u001b[1;31m:\u001b[0m cannot assign to literal\n"
     ]
    }
   ],
   "source": [
    "a=0,b=50,n=30\n",
    "a,b,n"
   ]
  },
  {
   "cell_type": "code",
   "execution_count": 19,
   "id": "707593b8",
   "metadata": {},
   "outputs": [
    {
     "data": {
      "text/plain": [
       "tuple"
      ]
     },
     "execution_count": 19,
     "metadata": {},
     "output_type": "execute_result"
    }
   ],
   "source": [
    "a = 10,50,48,\"Rajesh\"\n",
    "type(a)"
   ]
  },
  {
   "cell_type": "markdown",
   "id": "bd1909fd",
   "metadata": {},
   "source": [
    "## Input Formatting:\n",
    "    - To display an info to a user\n",
    "    - To read a value from a user\n",
    "    - By default data type is string\n",
    "    Syntax:\n",
    "        variablename = input(\"some message\")"
   ]
  },
  {
   "cell_type": "code",
   "execution_count": 1,
   "id": "a30aab1e",
   "metadata": {},
   "outputs": [
    {
     "name": "stdout",
     "output_type": "stream",
     "text": [
      "Enter a value: 10\n",
      "Enter b value: 78\n",
      "10 <class 'str'> 78 <class 'str'>\n"
     ]
    }
   ],
   "source": [
    "a = input(\"Enter a value: \")\n",
    "b = input(\"Enter b value: \")\n",
    "print(a,type(a),b,type(b))"
   ]
  },
  {
   "cell_type": "code",
   "execution_count": 3,
   "id": "7c3bb832",
   "metadata": {},
   "outputs": [
    {
     "name": "stdout",
     "output_type": "stream",
     "text": [
      "Enter a value: 1\n",
      "Enter b value: 5\n",
      "Addition of 1 and 5 is: 15\n"
     ]
    }
   ],
   "source": [
    "a,b = input(\"Enter a value: \"),input(\"Enter b value: \")\n",
    "print(\"Addition of\",a,\"and\",b,\"is:\",a+b)"
   ]
  },
  {
   "cell_type": "markdown",
   "id": "a8b79c1e",
   "metadata": {},
   "source": [
    "## Type Casting:\n",
    "    - To change the data type of one type to another data type\n",
    "    - int()\n",
    "    - float()\n",
    "    - str()\n",
    "    - complex()\n",
    "    - bool()\n",
    "    - All Data Structures Like[list(),tuple(),set() and dict()]"
   ]
  },
  {
   "cell_type": "code",
   "execution_count": 2,
   "id": "66f6766b",
   "metadata": {},
   "outputs": [
    {
     "name": "stdout",
     "output_type": "stream",
     "text": [
      "Enter a value: 1\n",
      "Enter b value: 7\n",
      "Addition of 1 and 7 is: 8\n",
      "<class 'str'> <class 'str'>\n"
     ]
    }
   ],
   "source": [
    "a,b = input(\"Enter a value: \"),input(\"Enter b value: \")\n",
    "print(\"Addition of\",a,\"and\",b,\"is:\",int(a)+int(b))\n",
    "print(type(a),type(b))"
   ]
  },
  {
   "cell_type": "markdown",
   "id": "17666512",
   "metadata": {},
   "source": [
    "## Output Formatting:\n",
    "    - ,\n",
    "    - format specifiers\n",
    "    - .format\n",
    "    - f string"
   ]
  },
  {
   "cell_type": "code",
   "execution_count": 9,
   "id": "7c819131",
   "metadata": {},
   "outputs": [
    {
     "name": "stdout",
     "output_type": "stream",
     "text": [
      "Enter a value: 1\n",
      "Enter b value: 8\n",
      "Addition of 1 and 8 is: 9\n",
      "Substraction of 1 and 8 is: -7\n",
      "Division of 8 and 1 is: 0.125\n",
      "Multiplication of 1 and 8 is: 8\n"
     ]
    }
   ],
   "source": [
    "a,b = int(input(\"Enter a value: \")),int(input(\"Enter b value: \"))\n",
    "print(\"Addition of\",a,\"and\",b,\"is:\",a+b)\n",
    "print(\"Substraction of %d and %d is: %d\"%(a,b,a-b))\n",
    "print(\"Division of {1} and {0} is: {2}\".format(a,b,a/b))\n",
    "print(f\"Multiplication of {a} and {b} is: {a*b}\")"
   ]
  },
  {
   "cell_type": "markdown",
   "id": "dfebd196",
   "metadata": {},
   "source": [
    "## Operators:\n",
    "    - Arithmetic => +,-,*,/,//,**\n",
    "    - Logical => AND,OR,NOT\n",
    "    - Relational => ==,!=,<=,>=,>,<\n",
    "    - Assignment => +=,-=,*=,/=,//=,**=\n",
    "    - Bitwise => &,|,!\n",
    "    - Membership => in,not in\n",
    "    - Identity => is,is not"
   ]
  },
  {
   "cell_type": "code",
   "execution_count": 13,
   "id": "f102427d",
   "metadata": {},
   "outputs": [
    {
     "name": "stdout",
     "output_type": "stream",
     "text": [
      "30\n"
     ]
    }
   ],
   "source": [
    "a = 120\n",
    "b = 30\n",
    "print(a and b)"
   ]
  },
  {
   "cell_type": "code",
   "execution_count": 14,
   "id": "ebf62afd",
   "metadata": {},
   "outputs": [
    {
     "name": "stdout",
     "output_type": "stream",
     "text": [
      "120\n"
     ]
    }
   ],
   "source": [
    "print(a or b)"
   ]
  },
  {
   "cell_type": "code",
   "execution_count": 15,
   "id": "c0822a01",
   "metadata": {},
   "outputs": [
    {
     "name": "stdout",
     "output_type": "stream",
     "text": [
      "24\n",
      "126\n"
     ]
    }
   ],
   "source": [
    "print(a & b)\n",
    "print(a | b)"
   ]
  },
  {
   "cell_type": "markdown",
   "id": "cf0fdcf7",
   "metadata": {},
   "source": [
    "```\n",
    "Input:\n",
    "    Enter a number: ?\n",
    "    Enter b number: ?\n",
    "\n",
    "Output:\n",
    "    Entered numbers are: ? ?\n",
    "    Entered First number is: '?' and second number is: '?'\n",
    "```"
   ]
  },
  {
   "cell_type": "code",
   "execution_count": 18,
   "id": "c9c46424",
   "metadata": {},
   "outputs": [
    {
     "name": "stdout",
     "output_type": "stream",
     "text": [
      "Enter a number: 4\n",
      "Enter b number: 5\n",
      "Entered numbers are: 4 5\n",
      "Entered First number is: '4' and second number is: '5'\n"
     ]
    }
   ],
   "source": [
    "a,b=int(input(\"Enter a number: \")),int(input(\"Enter b number: \"))\n",
    "print(f\"Entered numbers are: {a} {b}\")\n",
    "print(f\"Entered First number is: '{a}' and second number is: '{b}'\")"
   ]
  },
  {
   "cell_type": "code",
   "execution_count": 19,
   "id": "1b9cdad0",
   "metadata": {},
   "outputs": [],
   "source": [
    "import keyword"
   ]
  },
  {
   "cell_type": "code",
   "execution_count": 22,
   "id": "32eafac0",
   "metadata": {},
   "outputs": [
    {
     "name": "stdout",
     "output_type": "stream",
     "text": [
      "['False', 'None', 'True', '__peg_parser__', 'and', 'as', 'assert', 'async', 'await', 'break', 'class', 'continue', 'def', 'del', 'elif', 'else', 'except', 'finally', 'for', 'from', 'global', 'if', 'import', 'in', 'is', 'lambda', 'nonlocal', 'not', 'or', 'pass', 'raise', 'return', 'try', 'while', 'with', 'yield'] 36\n"
     ]
    }
   ],
   "source": [
    "print(keyword.kwlist,len(keyword.kwlist))"
   ]
  },
  {
   "cell_type": "markdown",
   "id": "719eca1e",
   "metadata": {},
   "source": [
    "## Conditional Statements:\n",
    "    - To check whether a given condition is Either True or False\n",
    "    - if => 1 case\n",
    "    - if-else => 2 cases\n",
    "    - nested if => 3 or more cases\n",
    "    - elif => 3 or more n number of cases"
   ]
  },
  {
   "cell_type": "markdown",
   "id": "8c458236",
   "metadata": {},
   "source": [
    "# if\n",
    "    Syntax:\n",
    "        if condition:\n",
    "            //stmts\n",
    "        () => optional"
   ]
  },
  {
   "cell_type": "code",
   "execution_count": 33,
   "id": "a7bbd545",
   "metadata": {},
   "outputs": [
    {
     "name": "stdout",
     "output_type": "stream",
     "text": [
      "enter a value:8\n",
      "given number is: 8 equal to 8\n"
     ]
    }
   ],
   "source": [
    "a=int(input(\"enter a value:\"))\n",
    "if(a==8):\n",
    "    print(f\"given number is: {a} equal to 8\")"
   ]
  },
  {
   "cell_type": "code",
   "execution_count": 37,
   "id": "2cf21a19",
   "metadata": {},
   "outputs": [
    {
     "name": "stdout",
     "output_type": "stream",
     "text": [
      "Enter Your name: kiran\n",
      "Hi kiran You are not an admin to access a file or folder.\n"
     ]
    }
   ],
   "source": [
    "n = input(\"Enter Your name: \")\n",
    "if n!=\"ramesh\":\n",
    "    print(f\"Hi {n} You are not an admin to access a file or folder.\")"
   ]
  },
  {
   "cell_type": "code",
   "execution_count": null,
   "id": "3e59b4ba",
   "metadata": {},
   "outputs": [],
   "source": []
  }
 ],
 "metadata": {
  "kernelspec": {
   "display_name": "Python 3 (ipykernel)",
   "language": "python",
   "name": "python3"
  },
  "language_info": {
   "codemirror_mode": {
    "name": "ipython",
    "version": 3
   },
   "file_extension": ".py",
   "mimetype": "text/x-python",
   "name": "python",
   "nbconvert_exporter": "python",
   "pygments_lexer": "ipython3",
   "version": "3.9.13"
  }
 },
 "nbformat": 4,
 "nbformat_minor": 5
}
